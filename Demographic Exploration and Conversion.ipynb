{
 "cells": [
  {
   "cell_type": "code",
   "execution_count": 1,
   "metadata": {},
   "outputs": [
    {
     "data": {
      "text/html": [
       "<script>\n",
       "    // AUTORUN ALL CELLS ON NOTEBOOK-LOAD!\n",
       "    require(\n",
       "        ['base/js/namespace', 'jquery'], \n",
       "        function(jupyter, $) {\n",
       "            $(jupyter.events).on(\"kernel_ready.Kernel\", function () {\n",
       "                console.log(\"Auto-running all cells-below...\");\n",
       "                jupyter.actions.call('jupyter-notebook:run-all-cells-below');\n",
       "                jupyter.notebook.scroll_to_top();\n",
       "                jupyter.actions.call('jupyter-notebook:save-notebook');                \n",
       "                \n",
       "            });\n",
       "        });\n",
       "        \n",
       "        $( document ).ready(function(){\n",
       "        code_shown=false;\n",
       "        $('div.input').hide()});\n",
       "    \n",
       "    \n",
       "</script>\n"
      ],
      "text/plain": [
       "<IPython.core.display.HTML object>"
      ]
     },
     "metadata": {},
     "output_type": "display_data"
    }
   ],
   "source": [
    "%%html\n",
    "<script>\n",
    "    // AUTORUN ALL CELLS ON NOTEBOOK-LOAD!\n",
    "    require(\n",
    "        ['base/js/namespace', 'jquery'], \n",
    "        function(jupyter, $) {\n",
    "            $(jupyter.events).on(\"kernel_ready.Kernel\", function () {\n",
    "                console.log(\"Auto-running all cells-below...\");\n",
    "                jupyter.actions.call('jupyter-notebook:run-all-cells-below');\n",
    "                jupyter.notebook.scroll_to_top();\n",
    "                jupyter.actions.call('jupyter-notebook:save-notebook');                \n",
    "                \n",
    "            });\n",
    "        });\n",
    "        \n",
    "        $( document ).ready(function(){\n",
    "        code_shown=false;\n",
    "        $('div.input').hide()});\n",
    "    \n",
    "    \n",
    "</script>\n"
   ]
  },
  {
   "cell_type": "markdown",
   "metadata": {},
   "source": [
    "Note: Above this cell is a hidden cell that hides and runs all code in the file. This is intended for those who do not want to see or interact with the code. It can be seen by converting the cell to markdown(see toolbar above) and then back to code"
   ]
  },
  {
   "cell_type": "markdown",
   "metadata": {},
   "source": [
    "# Plot and conversion of demographic data\n",
    "\n",
    "The following file uses the downloaded demographic data from [worldpop.org](https://www.worldpop.org/) and converts it into discrete (integer) numbers based on the users desired accuracy and plots a demographic bar charts.\n",
    "\n",
    "This file use the *Density Exploration and Conversion* .h5 file to reference the area are down selected. \n",
    "\n",
    "The output from this file is then used *syntheticpopulation_starter.py* file to build a demographically accurate ABM. \n",
    "\n",
    "Due to the potential size of the population files syntheticpopulation uses hdf5 (saved as h5) file format to keep the data on disk rather than RAM. **Please be aware depending on the country this may take up substantial memory.** As an example a country like Niger based on geographic size takes up approximately 70 gigabytes. \n"
   ]
  },
  {
   "cell_type": "markdown",
   "metadata": {},
   "source": [
    "## 0: Import the Dependencies"
   ]
  },
  {
   "cell_type": "code",
   "execution_count": 2,
   "metadata": {},
   "outputs": [
    {
     "data": {
      "text/html": [
       "\n",
       "    <script>\n",
       "    function code_toggle() {\n",
       "        if ($('div.cell.code_cell.rendered.selected div.input').css('display') !='none'){\n",
       "            $('div.cell.code_cell.rendered.selected div.input').hide('500');\n",
       "        } else {\n",
       "            $('div.cell.code_cell.rendered.selected div.input').show('500');\n",
       "            \n",
       "        }\n",
       "        \n",
       "    }\n",
       "    </script>\n",
       "\n",
       "\n",
       "<form action=\"javascript:code_toggle()\"><input type=\"submit\" id=\"toggleButton\" value=\"Hide/Show Code\"></form>\n"
      ],
      "text/plain": [
       "<IPython.core.display.HTML object>"
      ]
     },
     "metadata": {},
     "output_type": "display_data"
    },
    {
     "data": {
      "text/html": [
       "\n",
       "<form action=\"javascript:Jupyter.notebook.execute_cell()\"><input type =\"submit\" id=\"runButton\" value=\"Run Cell\"></form>\n"
      ],
      "text/plain": [
       "<IPython.core.display.HTML object>"
      ]
     },
     "metadata": {},
     "output_type": "display_data"
    },
    {
     "data": {
      "text/html": [
       "\n",
       "    <div class=\"bk-root\">\n",
       "        <a href=\"https://bokeh.org\" target=\"_blank\" class=\"bk-logo bk-logo-small bk-logo-notebook\"></a>\n",
       "        <span id=\"1003\">Loading BokehJS ...</span>\n",
       "    </div>"
      ]
     },
     "metadata": {},
     "output_type": "display_data"
    },
    {
     "data": {
      "application/javascript": [
       "\n",
       "(function(root) {\n",
       "  function now() {\n",
       "    return new Date();\n",
       "  }\n",
       "\n",
       "  var force = true;\n",
       "\n",
       "  if (typeof root._bokeh_onload_callbacks === \"undefined\" || force === true) {\n",
       "    root._bokeh_onload_callbacks = [];\n",
       "    root._bokeh_is_loading = undefined;\n",
       "  }\n",
       "\n",
       "  var JS_MIME_TYPE = 'application/javascript';\n",
       "  var HTML_MIME_TYPE = 'text/html';\n",
       "  var EXEC_MIME_TYPE = 'application/vnd.bokehjs_exec.v0+json';\n",
       "  var CLASS_NAME = 'output_bokeh rendered_html';\n",
       "\n",
       "  /**\n",
       "   * Render data to the DOM node\n",
       "   */\n",
       "  function render(props, node) {\n",
       "    var script = document.createElement(\"script\");\n",
       "    node.appendChild(script);\n",
       "  }\n",
       "\n",
       "  /**\n",
       "   * Handle when an output is cleared or removed\n",
       "   */\n",
       "  function handleClearOutput(event, handle) {\n",
       "    var cell = handle.cell;\n",
       "\n",
       "    var id = cell.output_area._bokeh_element_id;\n",
       "    var server_id = cell.output_area._bokeh_server_id;\n",
       "    // Clean up Bokeh references\n",
       "    if (id != null && id in Bokeh.index) {\n",
       "      Bokeh.index[id].model.document.clear();\n",
       "      delete Bokeh.index[id];\n",
       "    }\n",
       "\n",
       "    if (server_id !== undefined) {\n",
       "      // Clean up Bokeh references\n",
       "      var cmd = \"from bokeh.io.state import curstate; print(curstate().uuid_to_server['\" + server_id + \"'].get_sessions()[0].document.roots[0]._id)\";\n",
       "      cell.notebook.kernel.execute(cmd, {\n",
       "        iopub: {\n",
       "          output: function(msg) {\n",
       "            var id = msg.content.text.trim();\n",
       "            if (id in Bokeh.index) {\n",
       "              Bokeh.index[id].model.document.clear();\n",
       "              delete Bokeh.index[id];\n",
       "            }\n",
       "          }\n",
       "        }\n",
       "      });\n",
       "      // Destroy server and session\n",
       "      var cmd = \"import bokeh.io.notebook as ion; ion.destroy_server('\" + server_id + \"')\";\n",
       "      cell.notebook.kernel.execute(cmd);\n",
       "    }\n",
       "  }\n",
       "\n",
       "  /**\n",
       "   * Handle when a new output is added\n",
       "   */\n",
       "  function handleAddOutput(event, handle) {\n",
       "    var output_area = handle.output_area;\n",
       "    var output = handle.output;\n",
       "\n",
       "    // limit handleAddOutput to display_data with EXEC_MIME_TYPE content only\n",
       "    if ((output.output_type != \"display_data\") || (!Object.prototype.hasOwnProperty.call(output.data, EXEC_MIME_TYPE))) {\n",
       "      return\n",
       "    }\n",
       "\n",
       "    var toinsert = output_area.element.find(\".\" + CLASS_NAME.split(' ')[0]);\n",
       "\n",
       "    if (output.metadata[EXEC_MIME_TYPE][\"id\"] !== undefined) {\n",
       "      toinsert[toinsert.length - 1].firstChild.textContent = output.data[JS_MIME_TYPE];\n",
       "      // store reference to embed id on output_area\n",
       "      output_area._bokeh_element_id = output.metadata[EXEC_MIME_TYPE][\"id\"];\n",
       "    }\n",
       "    if (output.metadata[EXEC_MIME_TYPE][\"server_id\"] !== undefined) {\n",
       "      var bk_div = document.createElement(\"div\");\n",
       "      bk_div.innerHTML = output.data[HTML_MIME_TYPE];\n",
       "      var script_attrs = bk_div.children[0].attributes;\n",
       "      for (var i = 0; i < script_attrs.length; i++) {\n",
       "        toinsert[toinsert.length - 1].firstChild.setAttribute(script_attrs[i].name, script_attrs[i].value);\n",
       "        toinsert[toinsert.length - 1].firstChild.textContent = bk_div.children[0].textContent\n",
       "      }\n",
       "      // store reference to server id on output_area\n",
       "      output_area._bokeh_server_id = output.metadata[EXEC_MIME_TYPE][\"server_id\"];\n",
       "    }\n",
       "  }\n",
       "\n",
       "  function register_renderer(events, OutputArea) {\n",
       "\n",
       "    function append_mime(data, metadata, element) {\n",
       "      // create a DOM node to render to\n",
       "      var toinsert = this.create_output_subarea(\n",
       "        metadata,\n",
       "        CLASS_NAME,\n",
       "        EXEC_MIME_TYPE\n",
       "      );\n",
       "      this.keyboard_manager.register_events(toinsert);\n",
       "      // Render to node\n",
       "      var props = {data: data, metadata: metadata[EXEC_MIME_TYPE]};\n",
       "      render(props, toinsert[toinsert.length - 1]);\n",
       "      element.append(toinsert);\n",
       "      return toinsert\n",
       "    }\n",
       "\n",
       "    /* Handle when an output is cleared or removed */\n",
       "    events.on('clear_output.CodeCell', handleClearOutput);\n",
       "    events.on('delete.Cell', handleClearOutput);\n",
       "\n",
       "    /* Handle when a new output is added */\n",
       "    events.on('output_added.OutputArea', handleAddOutput);\n",
       "\n",
       "    /**\n",
       "     * Register the mime type and append_mime function with output_area\n",
       "     */\n",
       "    OutputArea.prototype.register_mime_type(EXEC_MIME_TYPE, append_mime, {\n",
       "      /* Is output safe? */\n",
       "      safe: true,\n",
       "      /* Index of renderer in `output_area.display_order` */\n",
       "      index: 0\n",
       "    });\n",
       "  }\n",
       "\n",
       "  // register the mime type if in Jupyter Notebook environment and previously unregistered\n",
       "  if (root.Jupyter !== undefined) {\n",
       "    var events = require('base/js/events');\n",
       "    var OutputArea = require('notebook/js/outputarea').OutputArea;\n",
       "\n",
       "    if (OutputArea.prototype.mime_types().indexOf(EXEC_MIME_TYPE) == -1) {\n",
       "      register_renderer(events, OutputArea);\n",
       "    }\n",
       "  }\n",
       "\n",
       "  \n",
       "  if (typeof (root._bokeh_timeout) === \"undefined\" || force === true) {\n",
       "    root._bokeh_timeout = Date.now() + 5000;\n",
       "    root._bokeh_failed_load = false;\n",
       "  }\n",
       "\n",
       "  var NB_LOAD_WARNING = {'data': {'text/html':\n",
       "     \"<div style='background-color: #fdd'>\\n\"+\n",
       "     \"<p>\\n\"+\n",
       "     \"BokehJS does not appear to have successfully loaded. If loading BokehJS from CDN, this \\n\"+\n",
       "     \"may be due to a slow or bad network connection. Possible fixes:\\n\"+\n",
       "     \"</p>\\n\"+\n",
       "     \"<ul>\\n\"+\n",
       "     \"<li>re-rerun `output_notebook()` to attempt to load from CDN again, or</li>\\n\"+\n",
       "     \"<li>use INLINE resources instead, as so:</li>\\n\"+\n",
       "     \"</ul>\\n\"+\n",
       "     \"<code>\\n\"+\n",
       "     \"from bokeh.resources import INLINE\\n\"+\n",
       "     \"output_notebook(resources=INLINE)\\n\"+\n",
       "     \"</code>\\n\"+\n",
       "     \"</div>\"}};\n",
       "\n",
       "  function display_loaded() {\n",
       "    var el = document.getElementById(\"1003\");\n",
       "    if (el != null) {\n",
       "      el.textContent = \"BokehJS is loading...\";\n",
       "    }\n",
       "    if (root.Bokeh !== undefined) {\n",
       "      if (el != null) {\n",
       "        el.textContent = \"BokehJS \" + root.Bokeh.version + \" successfully loaded.\";\n",
       "      }\n",
       "    } else if (Date.now() < root._bokeh_timeout) {\n",
       "      setTimeout(display_loaded, 100)\n",
       "    }\n",
       "  }\n",
       "\n",
       "\n",
       "  function run_callbacks() {\n",
       "    try {\n",
       "      root._bokeh_onload_callbacks.forEach(function(callback) {\n",
       "        if (callback != null)\n",
       "          callback();\n",
       "      });\n",
       "    } finally {\n",
       "      delete root._bokeh_onload_callbacks\n",
       "    }\n",
       "    console.debug(\"Bokeh: all callbacks have finished\");\n",
       "  }\n",
       "\n",
       "  function load_libs(css_urls, js_urls, callback) {\n",
       "    if (css_urls == null) css_urls = [];\n",
       "    if (js_urls == null) js_urls = [];\n",
       "\n",
       "    root._bokeh_onload_callbacks.push(callback);\n",
       "    if (root._bokeh_is_loading > 0) {\n",
       "      console.debug(\"Bokeh: BokehJS is being loaded, scheduling callback at\", now());\n",
       "      return null;\n",
       "    }\n",
       "    if (js_urls == null || js_urls.length === 0) {\n",
       "      run_callbacks();\n",
       "      return null;\n",
       "    }\n",
       "    console.debug(\"Bokeh: BokehJS not loaded, scheduling load and callback at\", now());\n",
       "    root._bokeh_is_loading = css_urls.length + js_urls.length;\n",
       "\n",
       "    function on_load() {\n",
       "      root._bokeh_is_loading--;\n",
       "      if (root._bokeh_is_loading === 0) {\n",
       "        console.debug(\"Bokeh: all BokehJS libraries/stylesheets loaded\");\n",
       "        run_callbacks()\n",
       "      }\n",
       "    }\n",
       "\n",
       "    function on_error(url) {\n",
       "      console.error(\"failed to load \" + url);\n",
       "    }\n",
       "\n",
       "    for (let i = 0; i < css_urls.length; i++) {\n",
       "      const url = css_urls[i];\n",
       "      const element = document.createElement(\"link\");\n",
       "      element.onload = on_load;\n",
       "      element.onerror = on_error.bind(null, url);\n",
       "      element.rel = \"stylesheet\";\n",
       "      element.type = \"text/css\";\n",
       "      element.href = url;\n",
       "      console.debug(\"Bokeh: injecting link tag for BokehJS stylesheet: \", url);\n",
       "      document.body.appendChild(element);\n",
       "    }\n",
       "\n",
       "    const hashes = {\"https://cdn.bokeh.org/bokeh/release/bokeh-2.3.0.min.js\": \"HjagQp6T0/7bxYTAXbLotF1MLAGWmhkY5siA1Gc/pcEgvgRPtMsRn0gQtMwGKiw1\", \"https://cdn.bokeh.org/bokeh/release/bokeh-widgets-2.3.0.min.js\": \"ZEPPTjL+mdyqgIq+/pl9KTwzji8Kow2NnI3zWY8+sFinWP/SYJ80BnfeJsa45iYj\", \"https://cdn.bokeh.org/bokeh/release/bokeh-tables-2.3.0.min.js\": \"exLqv2ACDRIaV7ZK1iL8aGzGYQvKVuT3U2CT7FsQREBxRah6JrkVCoFy0koY1YqV\"};\n",
       "\n",
       "    for (let i = 0; i < js_urls.length; i++) {\n",
       "      const url = js_urls[i];\n",
       "      const element = document.createElement('script');\n",
       "      element.onload = on_load;\n",
       "      element.onerror = on_error.bind(null, url);\n",
       "      element.async = false;\n",
       "      element.src = url;\n",
       "      if (url in hashes) {\n",
       "        element.crossOrigin = \"anonymous\";\n",
       "        element.integrity = \"sha384-\" + hashes[url];\n",
       "      }\n",
       "      console.debug(\"Bokeh: injecting script tag for BokehJS library: \", url);\n",
       "      document.head.appendChild(element);\n",
       "    }\n",
       "  };\n",
       "\n",
       "  function inject_raw_css(css) {\n",
       "    const element = document.createElement(\"style\");\n",
       "    element.appendChild(document.createTextNode(css));\n",
       "    document.body.appendChild(element);\n",
       "  }\n",
       "\n",
       "  \n",
       "  var js_urls = [\"https://cdn.bokeh.org/bokeh/release/bokeh-2.3.0.min.js\", \"https://cdn.bokeh.org/bokeh/release/bokeh-widgets-2.3.0.min.js\", \"https://cdn.bokeh.org/bokeh/release/bokeh-tables-2.3.0.min.js\"];\n",
       "  var css_urls = [];\n",
       "  \n",
       "\n",
       "  var inline_js = [\n",
       "    function(Bokeh) {\n",
       "      Bokeh.set_log_level(\"info\");\n",
       "    },\n",
       "    function(Bokeh) {\n",
       "    \n",
       "    \n",
       "    }\n",
       "  ];\n",
       "\n",
       "  function run_inline_js() {\n",
       "    \n",
       "    if (root.Bokeh !== undefined || force === true) {\n",
       "      \n",
       "    for (var i = 0; i < inline_js.length; i++) {\n",
       "      inline_js[i].call(root, root.Bokeh);\n",
       "    }\n",
       "    if (force === true) {\n",
       "        display_loaded();\n",
       "      }} else if (Date.now() < root._bokeh_timeout) {\n",
       "      setTimeout(run_inline_js, 100);\n",
       "    } else if (!root._bokeh_failed_load) {\n",
       "      console.log(\"Bokeh: BokehJS failed to load within specified timeout.\");\n",
       "      root._bokeh_failed_load = true;\n",
       "    } else if (force !== true) {\n",
       "      var cell = $(document.getElementById(\"1003\")).parents('.cell').data().cell;\n",
       "      cell.output_area.append_execute_result(NB_LOAD_WARNING)\n",
       "    }\n",
       "\n",
       "  }\n",
       "\n",
       "  if (root._bokeh_is_loading === 0) {\n",
       "    console.debug(\"Bokeh: BokehJS loaded, going straight to plotting\");\n",
       "    run_inline_js();\n",
       "  } else {\n",
       "    load_libs(css_urls, js_urls, function() {\n",
       "      console.debug(\"Bokeh: BokehJS plotting callback run at\", now());\n",
       "      run_inline_js();\n",
       "    });\n",
       "  }\n",
       "}(window));"
      ],
      "application/vnd.bokehjs_load.v0+json": "\n(function(root) {\n  function now() {\n    return new Date();\n  }\n\n  var force = true;\n\n  if (typeof root._bokeh_onload_callbacks === \"undefined\" || force === true) {\n    root._bokeh_onload_callbacks = [];\n    root._bokeh_is_loading = undefined;\n  }\n\n  \n\n  \n  if (typeof (root._bokeh_timeout) === \"undefined\" || force === true) {\n    root._bokeh_timeout = Date.now() + 5000;\n    root._bokeh_failed_load = false;\n  }\n\n  var NB_LOAD_WARNING = {'data': {'text/html':\n     \"<div style='background-color: #fdd'>\\n\"+\n     \"<p>\\n\"+\n     \"BokehJS does not appear to have successfully loaded. If loading BokehJS from CDN, this \\n\"+\n     \"may be due to a slow or bad network connection. Possible fixes:\\n\"+\n     \"</p>\\n\"+\n     \"<ul>\\n\"+\n     \"<li>re-rerun `output_notebook()` to attempt to load from CDN again, or</li>\\n\"+\n     \"<li>use INLINE resources instead, as so:</li>\\n\"+\n     \"</ul>\\n\"+\n     \"<code>\\n\"+\n     \"from bokeh.resources import INLINE\\n\"+\n     \"output_notebook(resources=INLINE)\\n\"+\n     \"</code>\\n\"+\n     \"</div>\"}};\n\n  function display_loaded() {\n    var el = document.getElementById(\"1003\");\n    if (el != null) {\n      el.textContent = \"BokehJS is loading...\";\n    }\n    if (root.Bokeh !== undefined) {\n      if (el != null) {\n        el.textContent = \"BokehJS \" + root.Bokeh.version + \" successfully loaded.\";\n      }\n    } else if (Date.now() < root._bokeh_timeout) {\n      setTimeout(display_loaded, 100)\n    }\n  }\n\n\n  function run_callbacks() {\n    try {\n      root._bokeh_onload_callbacks.forEach(function(callback) {\n        if (callback != null)\n          callback();\n      });\n    } finally {\n      delete root._bokeh_onload_callbacks\n    }\n    console.debug(\"Bokeh: all callbacks have finished\");\n  }\n\n  function load_libs(css_urls, js_urls, callback) {\n    if (css_urls == null) css_urls = [];\n    if (js_urls == null) js_urls = [];\n\n    root._bokeh_onload_callbacks.push(callback);\n    if (root._bokeh_is_loading > 0) {\n      console.debug(\"Bokeh: BokehJS is being loaded, scheduling callback at\", now());\n      return null;\n    }\n    if (js_urls == null || js_urls.length === 0) {\n      run_callbacks();\n      return null;\n    }\n    console.debug(\"Bokeh: BokehJS not loaded, scheduling load and callback at\", now());\n    root._bokeh_is_loading = css_urls.length + js_urls.length;\n\n    function on_load() {\n      root._bokeh_is_loading--;\n      if (root._bokeh_is_loading === 0) {\n        console.debug(\"Bokeh: all BokehJS libraries/stylesheets loaded\");\n        run_callbacks()\n      }\n    }\n\n    function on_error(url) {\n      console.error(\"failed to load \" + url);\n    }\n\n    for (let i = 0; i < css_urls.length; i++) {\n      const url = css_urls[i];\n      const element = document.createElement(\"link\");\n      element.onload = on_load;\n      element.onerror = on_error.bind(null, url);\n      element.rel = \"stylesheet\";\n      element.type = \"text/css\";\n      element.href = url;\n      console.debug(\"Bokeh: injecting link tag for BokehJS stylesheet: \", url);\n      document.body.appendChild(element);\n    }\n\n    const hashes = {\"https://cdn.bokeh.org/bokeh/release/bokeh-2.3.0.min.js\": \"HjagQp6T0/7bxYTAXbLotF1MLAGWmhkY5siA1Gc/pcEgvgRPtMsRn0gQtMwGKiw1\", \"https://cdn.bokeh.org/bokeh/release/bokeh-widgets-2.3.0.min.js\": \"ZEPPTjL+mdyqgIq+/pl9KTwzji8Kow2NnI3zWY8+sFinWP/SYJ80BnfeJsa45iYj\", \"https://cdn.bokeh.org/bokeh/release/bokeh-tables-2.3.0.min.js\": \"exLqv2ACDRIaV7ZK1iL8aGzGYQvKVuT3U2CT7FsQREBxRah6JrkVCoFy0koY1YqV\"};\n\n    for (let i = 0; i < js_urls.length; i++) {\n      const url = js_urls[i];\n      const element = document.createElement('script');\n      element.onload = on_load;\n      element.onerror = on_error.bind(null, url);\n      element.async = false;\n      element.src = url;\n      if (url in hashes) {\n        element.crossOrigin = \"anonymous\";\n        element.integrity = \"sha384-\" + hashes[url];\n      }\n      console.debug(\"Bokeh: injecting script tag for BokehJS library: \", url);\n      document.head.appendChild(element);\n    }\n  };\n\n  function inject_raw_css(css) {\n    const element = document.createElement(\"style\");\n    element.appendChild(document.createTextNode(css));\n    document.body.appendChild(element);\n  }\n\n  \n  var js_urls = [\"https://cdn.bokeh.org/bokeh/release/bokeh-2.3.0.min.js\", \"https://cdn.bokeh.org/bokeh/release/bokeh-widgets-2.3.0.min.js\", \"https://cdn.bokeh.org/bokeh/release/bokeh-tables-2.3.0.min.js\"];\n  var css_urls = [];\n  \n\n  var inline_js = [\n    function(Bokeh) {\n      Bokeh.set_log_level(\"info\");\n    },\n    function(Bokeh) {\n    \n    \n    }\n  ];\n\n  function run_inline_js() {\n    \n    if (root.Bokeh !== undefined || force === true) {\n      \n    for (var i = 0; i < inline_js.length; i++) {\n      inline_js[i].call(root, root.Bokeh);\n    }\n    if (force === true) {\n        display_loaded();\n      }} else if (Date.now() < root._bokeh_timeout) {\n      setTimeout(run_inline_js, 100);\n    } else if (!root._bokeh_failed_load) {\n      console.log(\"Bokeh: BokehJS failed to load within specified timeout.\");\n      root._bokeh_failed_load = true;\n    } else if (force !== true) {\n      var cell = $(document.getElementById(\"1003\")).parents('.cell').data().cell;\n      cell.output_area.append_execute_result(NB_LOAD_WARNING)\n    }\n\n  }\n\n  if (root._bokeh_is_loading === 0) {\n    console.debug(\"Bokeh: BokehJS loaded, going straight to plotting\");\n    run_inline_js();\n  } else {\n    load_libs(css_urls, js_urls, function() {\n      console.debug(\"Bokeh: BokehJS plotting callback run at\", now());\n      run_inline_js();\n    });\n  }\n}(window));"
     },
     "metadata": {},
     "output_type": "display_data"
    }
   ],
   "source": [
    "from toggle_code import toggle_code as hide_code\n",
    "from toggle_code import run_code as run_code\n",
    "import os\n",
    "import numpy as np\n",
    "import pandas as pd\n",
    "import json\n",
    "import glob \n",
    "import rasterio\n",
    "import re\n",
    "import datetime\n",
    "from collections import OrderedDict\n",
    "import ipywidgets as widgets\n",
    "from ipywidgets import interact, Layout\n",
    "from bokeh.io import push_notebook, show, output_notebook\n",
    "from bokeh.plotting import figure, show\n",
    "from bokeh.tile_providers import get_provider, Vendors\n",
    "from bokeh.palettes import RdYlGn, Spectral4\n",
    "from bokeh.models import Legend, BoxAnnotation, Toggle, CustomJS,ColumnDataSource,LinearColorMapper, ColorBar, BasicTicker,\\\n",
    "                          PrintfTickFormatter, BasicTickFormatter, FactorRange\n",
    "from bokeh.layouts import layout, gridplot, column\n",
    "from bokeh.transform import transform, dodge\n",
    "from bokeh.models.tools import *\n",
    "tile_provider = get_provider('STAMEN_TERRAIN')\n",
    "#create pyproj transformer to convert form lat/long to web mercator\n",
    "from pyproj import Transformer\n",
    "transformer = Transformer.from_crs('epsg:4326','epsg:3857')\n",
    "import tables #To ensure binder build called through Pandas\n",
    "output_notebook()\n",
    "import warnings\n",
    "warnings.filterwarnings(\"ignore\", message=\"Cannot find a last shown plot to update.\")"
   ]
  },
  {
   "cell_type": "markdown",
   "metadata": {},
   "source": [
    "## 1: Select desired accuracy and if desired select country from saved files\n",
    "    \n",
    "If you only want specific files type in the Worldpops three letter code for those files. \n",
    "\n",
    "You may also leave this blank and all files will appear in step 2. \n",
    "\n",
    "6 decimal points for the coordinates represents and accuracy of ~0.11 meters at the equator\n",
    "\n",
    "**You cannot increase in accuracy (e.g. 4 decimals to 6 decimals) if you lowered the accuracy in the *Density Exploration and Conversion* file.**"
   ]
  },
  {
   "cell_type": "code",
   "execution_count": 3,
   "metadata": {},
   "outputs": [
    {
     "data": {
      "text/html": [
       "\n",
       "<form action=\"javascript:code_toggle()\"><input type=\"submit\" id=\"toggleButton\" value=\"Hide/Show Code\"></form>\n"
      ],
      "text/plain": [
       "<IPython.core.display.HTML object>"
      ]
     },
     "metadata": {},
     "output_type": "display_data"
    },
    {
     "data": {
      "text/html": [
       "\n",
       "<form action=\"javascript:Jupyter.notebook.execute_cell()\"><input type =\"submit\" id=\"runButton\" value=\"Run Cell\"></form>\n"
      ],
      "text/plain": [
       "<IPython.core.display.HTML object>"
      ]
     },
     "metadata": {},
     "output_type": "display_data"
    },
    {
     "name": "stdout",
     "output_type": "stream",
     "text": [
      "Selected desired accuracy\n"
     ]
    },
    {
     "data": {
      "application/vnd.jupyter.widget-view+json": {
       "model_id": "b0408153daa64b30ad6ebda3f46f1f2e",
       "version_major": 2,
       "version_minor": 0
      },
      "text/plain": [
       "interactive(children=(Dropdown(description='Accuracy', index=2, options=('6 decimals (~0.11 meters)', '5 decim…"
      ]
     },
     "metadata": {},
     "output_type": "display_data"
    },
    {
     "name": "stdout",
     "output_type": "stream",
     "text": [
      "If you want a specific country enter the three letter code in the file name\n"
     ]
    },
    {
     "data": {
      "application/vnd.jupyter.widget-view+json": {
       "model_id": "9d76e7251cc14d9bae0ccbb841307c8a",
       "version_major": 2,
       "version_minor": 0
      },
      "text/plain": [
       "interactive(children=(Text(value='', description='Country:', placeholder='Input 3 letter country identifier'),…"
      ]
     },
     "metadata": {},
     "output_type": "display_data"
    }
   ],
   "source": [
    "hide_code()\n",
    "run_code()\n",
    "\n",
    "\n",
    "print(\"Selected desired accuracy\")\n",
    "accuracy = widgets.Dropdown(options =[\"6 decimals (~0.11 meters)\",\n",
    "                                      \"5 decimals (~1.1 meters)\",\n",
    "                                      \"4 decimals (~11 meters)\",\n",
    "                                      \"3 decimals (~110 meters)\",\n",
    "                                      \"2 decimals (~1.1 kilometers)\"],\n",
    "                           value = \"4 decimals (~11 meters)\",\n",
    "                           description = \"Accuracy\",\n",
    "                           disabled = False)\n",
    "def update(acc):\n",
    "    return acc\n",
    "\n",
    "acc_select = interact(update, acc=accuracy)\n",
    "\n",
    "\n",
    "print(\"If you want a specific country enter the three letter code in the file name\")\n",
    "country = widgets.Text(value ='', placeholder='Input 3 letter country identifier',\n",
    "    description='Country:',\n",
    "    disabled=False)\n",
    "\n",
    "def country_select(cntry): \n",
    "    return cntry\n",
    "\n",
    "country_selected = interact(country_select, cntry=country)"
   ]
  },
  {
   "cell_type": "markdown",
   "metadata": {},
   "source": [
    "## 2: Select Data Files\n",
    "    \n",
    "The code will grab and process all files within this folder. Ensure only the demographic files you want to work with are\n",
    "stored at this location"
   ]
  },
  {
   "cell_type": "code",
   "execution_count": 4,
   "metadata": {},
   "outputs": [
    {
     "data": {
      "text/html": [
       "\n",
       "<form action=\"javascript:code_toggle()\"><input type=\"submit\" id=\"toggleButton\" value=\"Hide/Show Code\"></form>\n"
      ],
      "text/plain": [
       "<IPython.core.display.HTML object>"
      ]
     },
     "metadata": {},
     "output_type": "display_data"
    },
    {
     "data": {
      "text/html": [
       "\n",
       "<form action=\"javascript:Jupyter.notebook.execute_cell()\"><input type =\"submit\" id=\"runButton\" value=\"Run Cell\"></form>\n"
      ],
      "text/plain": [
       "<IPython.core.display.HTML object>"
      ]
     },
     "metadata": {},
     "output_type": "display_data"
    },
    {
     "data": {
      "application/vnd.jupyter.widget-view+json": {
       "model_id": "4afa876211324aa6ad4205346350ca91",
       "version_major": 2,
       "version_minor": 0
      },
      "text/plain": [
       "interactive(children=(SelectMultiple(description='File: ', layout=Layout(height='260px', width='50%'), options…"
      ]
     },
     "metadata": {},
     "output_type": "display_data"
    }
   ],
   "source": [
    "hide_code()\n",
    "run_code()\n",
    "\n",
    "val = country.value\n",
    "pot_list =[\"All\"]\n",
    "filepath= r\"./data/*\"\n",
    "for pop_file in glob.glob(filepath):\n",
    "    if val != '': \n",
    "        if val in pop_file: \n",
    "            if \"_f_\" in pop_file or \"_m_\" in pop_file: \n",
    "                pot_list.append(pop_file)\n",
    "            \n",
    "    else: \n",
    "        if \"_f_\" in pop_file or \"_m_\" in pop_file: \n",
    "            pot_list.append(pop_file)\n",
    "\n",
    "pop_file = widgets.SelectMultiple(options=pot_list, value=[], \n",
    "                                  description=\"File: \",\n",
    "                                  disabled = False,\n",
    "                                  layout=Layout(width=\"50%\", height=\"260px\"))\n",
    "\n",
    "def update(file):\n",
    "    return file\n",
    "\n",
    "pop_file_select = interact(update, file=pop_file)\n",
    "\n",
    "#call the function \n",
    "\n",
    "\n",
    "#pop_tabl"
   ]
  },
  {
   "cell_type": "markdown",
   "metadata": {},
   "source": [
    "## 3. Convert demographic files into table¶\n",
    "\n",
    "The following code converts the downloaded worldpop file into a table of latitudes, longitudes and number of people.\n",
    "\n",
    "The code gets the decimal individuals, determine their aggrgate number and then redistributes them back to the population. \n",
    "\n",
    "Due to this approah this requires the whole population to be factored and **may result in very large files (e.g. 10 to 100s of gigabytes)** depending on the geographic area of the population.\n",
    "\n"
   ]
  },
  {
   "cell_type": "code",
   "execution_count": 5,
   "metadata": {},
   "outputs": [
    {
     "data": {
      "text/html": [
       "\n",
       "<form action=\"javascript:code_toggle()\"><input type=\"submit\" id=\"toggleButton\" value=\"Hide/Show Code\"></form>\n"
      ],
      "text/plain": [
       "<IPython.core.display.HTML object>"
      ]
     },
     "metadata": {},
     "output_type": "display_data"
    },
    {
     "data": {
      "text/html": [
       "\n",
       "<form action=\"javascript:Jupyter.notebook.execute_cell()\"><input type =\"submit\" id=\"runButton\" value=\"Run Cell\"></form>\n"
      ],
      "text/plain": [
       "<IPython.core.display.HTML object>"
      ]
     },
     "metadata": {},
     "output_type": "display_data"
    },
    {
     "name": "stdout",
     "output_type": "stream",
     "text": [
      "waiting for inputs.\n"
     ]
    }
   ],
   "source": [
    "hide_code()\n",
    "run_code()\n",
    "\n",
    "# takes in a worldpop dataset url and populates a 3d array with 3 slices, one for the latitude, one for the longitude,\n",
    "# and one for the population at that specified co-ordinate box\n",
    "# The array is then loaded into the dictionary of all the worldpop age and sex demographics\n",
    "def get_array(filename, data_store, res):#, demographic, struct_dict):\n",
    "    col = re.split('_|\\.', filename)\n",
    "    col = col[2]+\"_\" +col[3]\n",
    "\n",
    "    with rasterio.open(filename) as src:\n",
    "        #read image\n",
    "        image= src.read()      \n",
    "        # transform image\n",
    "        bands,rows,cols = np.shape(image)\n",
    "        # bounding box of image\n",
    "        l,b,r,t = src.bounds\n",
    "        \n",
    "        reso = src.res\n",
    "        # meshgrid of X and Y\n",
    "        x = np.arange(l,r, reso[-1])\n",
    "        y = np.arange(t,b, -reso[-1])\n",
    "        #adjust for rounding errors\n",
    "        if len(x) != image[0].shape[1]:\n",
    "            diff_x = len(x)-image[0].shape[1]\n",
    "            x = x[0:-diff_x]\n",
    "        if len(y) != image[0].shape[0]:\n",
    "            diff_y = len(y)-image[0].shape[0]\n",
    "            y = y[0:-diff_y]\n",
    "        #TUrn into a two dimensional array of all lats and longs\n",
    "        lon, lat = np.meshgrid(x, y)\n",
    "        lon_flat = lon.flatten()\n",
    "        lat_flat= lat.flatten()\n",
    "        #Get rid of buffer locations\n",
    "        pop = image[0].ravel()\n",
    "        if type(res) == int: \n",
    "            res = np.where(pop==-99999.) #np.where flattens array\n",
    "        pop = np.delete(pop,res)\n",
    "        lon_flat = np.delete(lon_flat, res)\n",
    "        lat_flat  = np.delete(lat_flat, res)\n",
    "        #Create tables of structure [\"longitude\", \"Latitude\", \"population\"]\n",
    "        pop_dict = {\"longitude\":lon_flat, \"latitude\":lat_flat, col:pop}\n",
    "        pop_table = pd.DataFrame.from_dict(pop_dict)\n",
    "        \n",
    "        #Get total        \n",
    "        total_peeps = np.sum(pop_dict[col])\n",
    "        #print(\"There are approximately {} people.\".format(total_peeps))\n",
    "        data_store[col] = pop_table        \n",
    "        return col,total_peeps, res\n",
    "    \n",
    "def get_pop(filename,data_store, res):\n",
    "    col = re.split('_|\\.', filename)\n",
    "    col = col[2]+\"_\" +col[3]\n",
    "    \n",
    "    with rasterio.open(filename) as src:\n",
    "        #read image\n",
    "        image= src.read()                 \n",
    "        pop = image[0].flatten()\n",
    "        pop = np.delete(pop,res)\n",
    "        total_peeps = np.sum(pop)\n",
    "        pop_table = pd.DataFrame(data=pop, columns=[col])\n",
    "        \n",
    "        data_store[col] = pop_table\n",
    "        \n",
    "        return col, total_peeps\n",
    "    \n",
    "    \n",
    "    \n",
    "if len(pop_file.value)==0:\n",
    "    print(\"waiting for inputs.\")\n",
    "else:     \n",
    "    data_selection = []\n",
    "    if pop_file.value[0] == \"All\":\n",
    "        data_selection = pot_list[1:]\n",
    "    else: \n",
    "        data_selection = pop_file.value\n",
    "\n",
    "    #To track totals and file names\n",
    "    data_from_demo_files = []\n",
    "\n",
    "    \n",
    "    #Create HDF5 file --to prevent memory errors\n",
    "    data_store =pd.HDFStore(\".\\data\\demographics.h5\")\n",
    "    #dummy variable of buffer locations\n",
    "    res = 0\n",
    "    \n",
    "    # Create arrays to hold pandas dataframes created from demographic and population tifs    \n",
    "    for file in data_selection:\n",
    "        print(\"Creating demographic tables of \" + file)\n",
    "        if data_selection.index(file) == 0:\n",
    "            col, total, res = get_array(file, data_store, res)\n",
    "        else:\n",
    "            col, total = get_pop(file, data_store, res)\n",
    "        data_from_demo_files.append([col, total])\n",
    "    \n",
    "    #flush tables from memory\n",
    "    data_store.close()\n",
    "    print(\"There are {} demographic tables.\".format(len(data_from_demo_files)))"
   ]
  },
  {
   "cell_type": "markdown",
   "metadata": {},
   "source": [
    "# 4: Plot the data\n",
    "\n",
    "The next cell will plot the data as a demogrpahic file se we can visualize our data and also get an understanding of how the data pipelines affects the data. "
   ]
  },
  {
   "cell_type": "code",
   "execution_count": 6,
   "metadata": {
    "scrolled": false
   },
   "outputs": [
    {
     "data": {
      "text/html": [
       "\n",
       "<form action=\"javascript:code_toggle()\"><input type=\"submit\" id=\"toggleButton\" value=\"Hide/Show Code\"></form>\n"
      ],
      "text/plain": [
       "<IPython.core.display.HTML object>"
      ]
     },
     "metadata": {},
     "output_type": "display_data"
    },
    {
     "data": {
      "text/html": [
       "\n",
       "<form action=\"javascript:Jupyter.notebook.execute_cell()\"><input type =\"submit\" id=\"runButton\" value=\"Run Cell\"></form>\n"
      ],
      "text/plain": [
       "<IPython.core.display.HTML object>"
      ]
     },
     "metadata": {},
     "output_type": "display_data"
    },
    {
     "name": "stdout",
     "output_type": "stream",
     "text": [
      "Waiting for inputs.\n"
     ]
    }
   ],
   "source": [
    "hide_code()\n",
    "run_code()\n",
    "# File names are split to track which age/sex goes with which population total\n",
    "\n",
    "age_lookup = {'0': '0-1', '1': '1-5', '5':'5-10', '10':'10-15', '15':'15-20',\n",
    "             '20':'20-25', '25':'25-30', '30':'30-35', '35':'35-40', '40':'40-45',\n",
    "             '45': '45-50', '50':'50-55', '55':'55-60', '60':'60-65', '65':'65-70',\n",
    "             '70':'70-75', '75':'75-80', '80': '80 and Older'}\n",
    "\n",
    "total = 0\n",
    "\n",
    "def totals(data):\n",
    "    consistency_check = [OrderedDict(),OrderedDict()]\n",
    "    total = 0\n",
    "    \n",
    "    for d in data:\n",
    "        dem = d[0].split(\"_\")\n",
    "        if dem[0] == 'f':\n",
    "            consistency_check[0][int(dem[1])] = d[1]\n",
    "            total += consistency_check[0][int(dem[1])]\n",
    "        else:\n",
    "            consistency_check[1][int(dem[1])] = d[1]\n",
    "            total += consistency_check[1][int(dem[1])]\n",
    "    return consistency_check, total\n",
    "\n",
    "\n",
    "if len(pop_file.value)== 0:\n",
    "    print(\"Waiting for inputs.\")\n",
    "else:\n",
    "    #convert the data for plotting \n",
    "    consistency_check, total = totals(data_from_demo_files)    \n",
    "    print(\"Total population is {}.\".format(total))    \n",
    "    \n",
    "    #Ensure sorted by age --relies on int conversion in total function\n",
    "    plotter_female = OrderedDict((key, consistency_check[0][key]) for key in sorted(consistency_check[0].keys()))\n",
    "    plotter_male = OrderedDict((key, consistency_check[1][key]) for key in sorted(consistency_check[1].keys()))\n",
    "    categories = []\n",
    "    for ele in list(plotter_female.keys()):\n",
    "        categories.append(age_lookup[str(ele)])\n",
    "    \n",
    "    \n",
    "    male = list(plotter_male.values())\n",
    "    female = list(plotter_female.values())\n",
    "    sex = ['male', 'female']\n",
    "\n",
    "    # Data is set up for Bokeh\n",
    "    source = ColumnDataSource(data=dict(\n",
    "        x=categories,\n",
    "        male=male,\n",
    "        female=female,\n",
    "    ))\n",
    "\n",
    "    output_notebook()\n",
    "\n",
    "    # Graph presentation variables\n",
    "    p = figure(\n",
    "        title='Demographics',\n",
    "        x_axis_label='Age',\n",
    "        y_axis_label='Population',\n",
    "        x_range=FactorRange(*categories),\n",
    "        plot_width=800,\n",
    "        plot_height=600,\n",
    "        #tooltips='@$y{0}'\n",
    "    )\n",
    "    #rotate x axis labels\n",
    "    p.xaxis.major_label_orientation = 'vertical'\n",
    "    p.xaxis.axis_label_text_font_size = '20px' \n",
    "    p.xaxis.axis_label_text_font_style ='bold'\n",
    "    p.yaxis.axis_label_text_font_size = '20px' \n",
    "    p.yaxis.axis_label_text_font_style ='bold'\n",
    "    p.yaxis.major_label_text_font_size = \"12px\"\n",
    "    p.xaxis.major_label_text_font_size = \"12px\"\n",
    "    p.title.text_font_size = '24px'\n",
    "    \n",
    "\n",
    "    # Graph variables\n",
    "    p.vbar(x=dodge('x', 0.17, range = p.x_range),\n",
    "           top = 'male',\n",
    "           width=0.3,\n",
    "           alpha=0.8,\n",
    "           color='blue',\n",
    "           source=source\n",
    "    )\n",
    "\n",
    "    p.vbar(x=dodge('x', -0.17, range=p.x_range),\n",
    "           top = 'female',\n",
    "           width=0.3,\n",
    "           alpha=0.8,\n",
    "           color='pink',\n",
    "           source=source\n",
    "    )\n",
    "    # Removing scientific notation from y-axis tick marks\n",
    "    p.yaxis[0].formatter = BasicTickFormatter(use_scientific=False)\n",
    "\n",
    "    # Displaying graph\n",
    "    show(p)"
   ]
  },
  {
   "cell_type": "markdown",
   "metadata": {},
   "source": [
    "## 5. See the visualized area\n",
    "\n",
    "This code plots the selected area from the *Density Exploration and Conversion* file. In step 6, the code will reduce to the size of the desired area. "
   ]
  },
  {
   "cell_type": "code",
   "execution_count": 7,
   "metadata": {},
   "outputs": [
    {
     "data": {
      "text/html": [
       "\n",
       "<form action=\"javascript:code_toggle()\"><input type=\"submit\" id=\"toggleButton\" value=\"Hide/Show Code\"></form>\n"
      ],
      "text/plain": [
       "<IPython.core.display.HTML object>"
      ]
     },
     "metadata": {},
     "output_type": "display_data"
    },
    {
     "data": {
      "text/html": [
       "\n",
       "<form action=\"javascript:Jupyter.notebook.execute_cell()\"><input type =\"submit\" id=\"runButton\" value=\"Run Cell\"></form>\n"
      ],
      "text/plain": [
       "<IPython.core.display.HTML object>"
      ]
     },
     "metadata": {},
     "output_type": "display_data"
    },
    {
     "name": "stdout",
     "output_type": "stream",
     "text": [
      "Waiting for inputs.\n"
     ]
    }
   ],
   "source": [
    "hide_code()\n",
    "run_code()\n",
    "\n",
    "\n",
    "if len(pop_file.value)== 0:\n",
    "    print(\"Waiting for inputs.\")\n",
    "else: \n",
    "\n",
    "    data_store =pd.HDFStore(\".\\data\\density.h5\")\n",
    "\n",
    "    viz_table = data_store[\"visuals\"]                            \n",
    "\n",
    "    lat_min = viz_table[\"latitude\"].min()\n",
    "    lat_max = viz_table[\"latitude\"].max()\n",
    "    lon_min = viz_table[\"longitude\"].min()\n",
    "    lon_max = viz_table[\"longitude\"].max()\n",
    "\n",
    "\n",
    "    min_max_pts = [(lat_min, lon_min), (lat_max, lon_max)]\n",
    "    bbox2 = []\n",
    "    for pt in transformer.itransform(min_max_pts): \n",
    "        bbox2.append(pt)   \n",
    "\n",
    "    colors = list(RdYlGn[8]) \n",
    "    colors.reverse()\n",
    "    #Is there a better color mapper?\n",
    "    mapper = LinearColorMapper(palette=colors, low=viz_table.Population.min(),\n",
    "                               high=viz_table.Population.max())\n",
    "\n",
    "    color_bar = ColorBar(color_mapper=mapper, location=(0, 0),\n",
    "                     ticker=BasicTicker(desired_num_ticks=len(colors)))\n",
    "\n",
    "    def heatmap():\n",
    "\n",
    "        p2 = figure(plot_width=600, plot_height=600, title=\"Selected Area\",\n",
    "                    x_range=(bbox2[0][0], bbox2[1][0]),y_range=(bbox2[0][1], bbox2[1][1]),\n",
    "                    x_axis_type=\"mercator\", y_axis_type=\"mercator\")\n",
    "        p2.title.text_font_size = '20pt'\n",
    "        map_base = p2.add_tile(tile_provider)\n",
    "        map_base.level ='underlay'\n",
    "        #convert source to selected dictionary value\n",
    "        source = ColumnDataSource(viz_table)\n",
    "\n",
    "        p2.rect(x='web_lon', y='web_lat', width=3500, height=3500, source=source,\n",
    "                line_color=None, fill_color= transform(\"Population\", mapper), alpha=0.07)\n",
    "\n",
    "        p2.add_layout(color_bar, 'right')\n",
    "\n",
    "        show(p2)\n",
    "\n",
    "\n",
    "\n",
    "\n",
    "    heatmap_out = interact(heatmap)\n",
    "    data_store.close()"
   ]
  },
  {
   "cell_type": "markdown",
   "metadata": {},
   "source": [
    "## 6: Smooth the population\n",
    "\n",
    "There are many decimal people, which cannot exist. So based on the desired latitude/longitude accuracy the goal is to get close to the total population. The challenge is how?\n",
    "\n",
    "The following approach is based on Pareto distributions of populations or a rich get richer approach. In essence, if there is a high population density, then that area gets more people.\n",
    "\n",
    "(This is obviously somewhat coarse and we welcome contributions.)"
   ]
  },
  {
   "cell_type": "code",
   "execution_count": 8,
   "metadata": {
    "scrolled": false
   },
   "outputs": [
    {
     "data": {
      "text/html": [
       "\n",
       "<form action=\"javascript:code_toggle()\"><input type=\"submit\" id=\"toggleButton\" value=\"Hide/Show Code\"></form>\n"
      ],
      "text/plain": [
       "<IPython.core.display.HTML object>"
      ]
     },
     "metadata": {},
     "output_type": "display_data"
    },
    {
     "data": {
      "text/html": [
       "\n",
       "<form action=\"javascript:Jupyter.notebook.execute_cell()\"><input type =\"submit\" id=\"runButton\" value=\"Run Cell\"></form>\n"
      ],
      "text/plain": [
       "<IPython.core.display.HTML object>"
      ]
     },
     "metadata": {},
     "output_type": "display_data"
    },
    {
     "name": "stdout",
     "output_type": "stream",
     "text": [
      "Waiting for inputs.\n"
     ]
    }
   ],
   "source": [
    "hide_code()\n",
    "run_code()\n",
    "\n",
    "\n",
    "def create_base(rd, file): \n",
    "    data_store = pd.HDFStore('./data/demographics.h5')\n",
    "    print(\"Adjusting the accuracy...\")\n",
    "    grouped = data_store[file]\n",
    "    \n",
    "    #Round to desired accuracy\n",
    "    grouped[\"longitude\"] = grouped[\"longitude\"].round(rd)\n",
    "    grouped[\"latitude\"] = grouped[\"latitude\"].round(rd)\n",
    "    \n",
    "    index = grouped.index\n",
    "    \n",
    "    data_store[file] = grouped\n",
    "           \n",
    "    data_store.close()\n",
    "    \n",
    "    return index\n",
    " \n",
    "def expand_base(total, file, index, idx, bds): \n",
    "    #Read in data\n",
    "    data_store = pd.HDFStore('./data/demographics.h5')\n",
    "    \n",
    "    grouped = data_store[file]\n",
    "    \n",
    "    if idx == 0: \n",
    "        grouped = grouped[(grouped[\"latitude\"]>=bds[0][0]) & (grouped[\"latitude\"]<= bds[1][0]) &\n",
    "                                       (grouped[\"longitude\"] >= bds[0][1]) & (grouped[\"longitude\"]<= bds[1][1])]\n",
    "        index = grouped.index\n",
    "    else: \n",
    "        #reduce file to desired area\n",
    "        grouped = grouped.iloc[index, :] \n",
    "    \n",
    "    \n",
    "    goal = round(grouped[file].sum())\n",
    "    print(\"The goal population of {} is {}.\".format(file,goal))\n",
    "    print(\"Calculating......\")\n",
    "       \n",
    "    grouped[\"smalls\"] = np.where((grouped[file]< 0.4) & (grouped[file]>0.0), grouped[file], 0)\n",
    "    mod_sum = int(grouped[\"smalls\"].sum())\n",
    "    largest = grouped.nlargest(mod_sum, columns='smalls')\n",
    "    grouped.at[largest.index, \"smalls\"] = 1\n",
    "    \n",
    "    grouped[file] = grouped[file] + grouped['smalls']\n",
    "    \n",
    "    grouped[file] = grouped[file].apply(np.rint)\n",
    "    \n",
    "    \n",
    "    new_total = np.sum(grouped[file])\n",
    "    \n",
    "    diff = goal-new_total\n",
    "    \n",
    "    print(\"The aggregated total population is: \" + str(new_total))\n",
    "    print(\"The new aggregated total accounts for: \" + str(round(new_total/goal*100,2))+\"% of the population.\")\n",
    "    \n",
    "    del grouped[\"smalls\"]\n",
    "    \n",
    "   \n",
    "    \n",
    "    new_total = np.sum(grouped[file])\n",
    "    \n",
    "    data_store[file] = grouped\n",
    "    \n",
    "    data_store.close()\n",
    "    \n",
    "    return new_total, index\n",
    "\n",
    "######################################################################\n",
    "##                                                                 ##\n",
    "##                    Main Code                                    ##\n",
    "##                                                                 ##\n",
    "#####################################################################\n",
    "acc_dict = {\"6 decimals (~0.11 meters)\":6,\n",
    "                  \"5 decimals (~1.1 meters)\":5,\n",
    "                  \"4 decimals (~11 meters)\":4,\n",
    "                  \"3 decimals (~110 meters)\":3,\n",
    "                  \"2 decimals (~1.1 kilometers)\":2}\n",
    "rd = acc_dict[accuracy.value]\n",
    "    \n",
    "new_totals = []\n",
    "\n",
    "zeros = []\n",
    "\n",
    "if len(pop_file.value)==0:\n",
    "    print(\"Waiting for inputs.\")\n",
    "else:     \n",
    "    #get just the list of files\n",
    "    sub_files = list(list(zip(*data_from_demo_files))[0])\n",
    "    #get just the list of populations\n",
    "    sub_pops =  list(list(zip(*data_from_demo_files))[1])\n",
    "    #do the first file\n",
    "    \n",
    "    #round lat long and get base index: \n",
    "    index = create_base(rd, sub_files[0])\n",
    "       \n",
    "    for idx in range(len(sub_files)):\n",
    "        sub_pop, index = expand_base(sub_pops[idx], sub_files[idx], index, idx, min_max_pts)\n",
    "        new_totals.append(sub_pop)\n",
    "        #zeros.append(zero_list)\n",
    "    \n",
    "    print(\"Population smoothing complete.\")\n",
    "\n",
    "    sub_dict = {\"columns\": sub_files}\n",
    "    \n",
    "    with open(\"./data/demo_ref.json\",'w') as f: \n",
    "        json.dump(sub_dict,f)\n",
    "        \n",
    "    print(\"Reference columns saved as demo_ref.json\")"
   ]
  },
  {
   "cell_type": "code",
   "execution_count": 9,
   "metadata": {},
   "outputs": [
    {
     "data": {
      "text/html": [
       "\n",
       "<form action=\"javascript:code_toggle()\"><input type=\"submit\" id=\"toggleButton\" value=\"Hide/Show Code\"></form>\n"
      ],
      "text/plain": [
       "<IPython.core.display.HTML object>"
      ]
     },
     "metadata": {},
     "output_type": "display_data"
    },
    {
     "data": {
      "text/html": [
       "\n",
       "<form action=\"javascript:Jupyter.notebook.execute_cell()\"><input type =\"submit\" id=\"runButton\" value=\"Run Cell\"></form>\n"
      ],
      "text/plain": [
       "<IPython.core.display.HTML object>"
      ]
     },
     "metadata": {},
     "output_type": "display_data"
    },
    {
     "name": "stdout",
     "output_type": "stream",
     "text": [
      "Waiting for inputs.\n"
     ]
    }
   ],
   "source": [
    "hide_code()\n",
    "run_code()\n",
    "# File names are split to track which age/sex goes with which population total\n",
    "\n",
    "def totals(data):\n",
    "    consistency_check = [OrderedDict(),OrderedDict()]\n",
    "    total = 0\n",
    "    \n",
    "    for d in data:\n",
    "        dem = d[0].split(\"_\")\n",
    "        if dem[0] == 'f':\n",
    "            consistency_check[0][int(dem[1])] = d[1]\n",
    "            total += consistency_check[0][int(dem[1])]\n",
    "        else:\n",
    "            consistency_check[1][int(dem[1])] = d[1]\n",
    "            total += consistency_check[1][int(dem[1])]\n",
    "    return consistency_check, total\n",
    "\n",
    "\n",
    "if len(pop_file.value)== 0:\n",
    "    print(\"Waiting for inputs.\")\n",
    "else:\n",
    "    #convert the data for plotting \n",
    "    consistency_check, total = totals(zip(sub_files, new_totals))    \n",
    "    print(\"Total population is {}.\".format(total))    \n",
    "    \n",
    "    #Ensure sorted by age --relies on int conversion in total function\n",
    "    plotter_female = OrderedDict((key, consistency_check[0][key]) for key in sorted(consistency_check[0].keys()))\n",
    "    plotter_male = OrderedDict((key, consistency_check[1][key]) for key in sorted(consistency_check[1].keys()))\n",
    "    categories = []\n",
    "    for ele in list(plotter_female.keys()):\n",
    "        categories.append(age_lookup[str(ele)])\n",
    "    \n",
    "    \n",
    "    male = list(plotter_male.values())\n",
    "    female = list(plotter_female.values())\n",
    "    sex = ['male', 'female']\n",
    "\n",
    "    # Data is set up for Bokeh\n",
    "    source = ColumnDataSource(data=dict(\n",
    "        x=categories,\n",
    "        male=male,\n",
    "        female=female,\n",
    "    ))\n",
    "\n",
    "    output_notebook()\n",
    "\n",
    "    # Graph presentation variables\n",
    "    p = figure(\n",
    "        title='Demographics',\n",
    "        x_axis_label='Age',\n",
    "        y_axis_label='Population',\n",
    "        x_range=FactorRange(*categories),\n",
    "        plot_width=800,\n",
    "        plot_height=600,\n",
    "        #tooltips='@$y{0}'\n",
    "    )\n",
    "    #rotate x axis labels\n",
    "    p.xaxis.major_label_orientation = 'vertical'\n",
    "    p.xaxis.axis_label_text_font_size = '20px' \n",
    "    p.xaxis.axis_label_text_font_style ='bold'\n",
    "    p.yaxis.axis_label_text_font_size = '20px' \n",
    "    p.yaxis.axis_label_text_font_style ='bold'\n",
    "    p.yaxis.major_label_text_font_size = \"12px\"\n",
    "    p.xaxis.major_label_text_font_size = \"12px\"\n",
    "    p.title.text_font_size = '24px'\n",
    "    \n",
    "\n",
    "    # Graph variables\n",
    "    p.vbar(x=dodge('x', 0.17, range = p.x_range),\n",
    "           top = 'male',\n",
    "           width=0.3,\n",
    "           alpha=0.8,\n",
    "           color='blue',\n",
    "           source=source\n",
    "    )\n",
    "\n",
    "    p.vbar(x=dodge('x', -0.17, range=p.x_range),\n",
    "           top = 'female',\n",
    "           width=0.3,\n",
    "           alpha=0.8,\n",
    "           color='pink',\n",
    "           source=source\n",
    "    )\n",
    "    # Removing scientific notation from y-axis tick marks\n",
    "    p.yaxis[0].formatter = BasicTickFormatter(use_scientific=False)\n",
    "\n",
    "    # Displaying graph\n",
    "    show(p)"
   ]
  },
  {
   "cell_type": "code",
   "execution_count": null,
   "metadata": {},
   "outputs": [],
   "source": []
  },
  {
   "cell_type": "code",
   "execution_count": null,
   "metadata": {},
   "outputs": [],
   "source": []
  }
 ],
 "metadata": {
  "kernelspec": {
   "display_name": "Python 3",
   "language": "python",
   "name": "python3"
  },
  "language_info": {
   "codemirror_mode": {
    "name": "ipython",
    "version": 3
   },
   "file_extension": ".py",
   "mimetype": "text/x-python",
   "name": "python",
   "nbconvert_exporter": "python",
   "pygments_lexer": "ipython3",
   "version": "3.9.2"
  }
 },
 "nbformat": 4,
 "nbformat_minor": 4
}
