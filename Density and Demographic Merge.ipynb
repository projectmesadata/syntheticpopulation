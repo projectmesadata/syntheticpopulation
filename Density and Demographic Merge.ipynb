{
 "cells": [
  {
   "cell_type": "code",
   "execution_count": 1,
   "metadata": {},
   "outputs": [
    {
     "data": {
      "text/html": [
       "<script>\n",
       "    // AUTORUN ALL CELLS ON NOTEBOOK-LOAD!\n",
       "    require(\n",
       "        ['base/js/namespace', 'jquery'], \n",
       "        function(jupyter, $) {\n",
       "            $(jupyter.events).on(\"kernel_ready.Kernel\", function () {\n",
       "                console.log(\"Auto-running all cells-below...\");\n",
       "                jupyter.actions.call('jupyter-notebook:run-all-cells-below');\n",
       "                jupyter.notebook.scroll_to_top();\n",
       "                jupyter.actions.call('jupyter-notebook:save-notebook');                \n",
       "                \n",
       "            });\n",
       "        });\n",
       "        \n",
       "        $( document ).ready(function(){\n",
       "        code_shown=false;\n",
       "        $('div.input').hide()});\n",
       "    \n",
       "    \n",
       "</script>\n"
      ],
      "text/plain": [
       "<IPython.core.display.HTML object>"
      ]
     },
     "metadata": {},
     "output_type": "display_data"
    }
   ],
   "source": [
    "%%html\n",
    "<script>\n",
    "    // AUTORUN ALL CELLS ON NOTEBOOK-LOAD!\n",
    "    require(\n",
    "        ['base/js/namespace', 'jquery'], \n",
    "        function(jupyter, $) {\n",
    "            $(jupyter.events).on(\"kernel_ready.Kernel\", function () {\n",
    "                console.log(\"Auto-running all cells-below...\");\n",
    "                jupyter.actions.call('jupyter-notebook:run-all-cells-below');\n",
    "                jupyter.notebook.scroll_to_top();\n",
    "                jupyter.actions.call('jupyter-notebook:save-notebook');                \n",
    "                \n",
    "            });\n",
    "        });\n",
    "        \n",
    "        $( document ).ready(function(){\n",
    "        code_shown=false;\n",
    "        $('div.input').hide()});\n",
    "    \n",
    "    \n",
    "</script>"
   ]
  },
  {
   "cell_type": "markdown",
   "metadata": {},
   "source": [
    "Note: Above this cell is a hidden cell that hides and runs all code in the file. This is intended for those who do not want to see or interact with the code. It can be seen by converting the cell to markdown(see toolbar above) and then back to code"
   ]
  },
  {
   "cell_type": "markdown",
   "metadata": {},
   "source": [
    "# Density and Demographic Merge\n",
    "\n",
    "The following code merges the json files downloaded in the Density Exploration and Conversion and the Demographic Exploration and Conversion files. \n",
    "\n",
    "- The output is a table with latitude and lognitude (to include web formats), population and demographic distribution for the desired area. \n",
    " \n",
    "- The desired area is set via Density Exploration and Conversion file. \n",
    "- Both outputs from the Density and Demographic files need to have the same accuracy (e.g. 0.11 meter, 1 kilometer etc) "
   ]
  },
  {
   "cell_type": "markdown",
   "metadata": {},
   "source": [
    "# 0. Import Dependencies"
   ]
  },
  {
   "cell_type": "code",
   "execution_count": 2,
   "metadata": {},
   "outputs": [
    {
     "data": {
      "text/html": [
       "\n",
       "    <script>\n",
       "    function code_toggle() {\n",
       "        if ($('div.cell.code_cell.rendered.selected div.input').css('display') !='none'){\n",
       "            $('div.cell.code_cell.rendered.selected div.input').hide('500');\n",
       "        } else {\n",
       "            $('div.cell.code_cell.rendered.selected div.input').show('500');\n",
       "            \n",
       "        }\n",
       "        \n",
       "    }\n",
       "    </script>\n",
       "\n",
       "\n",
       "<form action=\"javascript:code_toggle()\"><input type=\"submit\" id=\"toggleButton\" value=\"Hide/Show Code\"></form>\n"
      ],
      "text/plain": [
       "<IPython.core.display.HTML object>"
      ]
     },
     "metadata": {},
     "output_type": "display_data"
    },
    {
     "data": {
      "text/html": [
       "\n",
       "<form action=\"javascript:Jupyter.notebook.execute_cell()\"><input type =\"submit\" id=\"runButton\" value=\"Run Cell\"></form>\n"
      ],
      "text/plain": [
       "<IPython.core.display.HTML object>"
      ]
     },
     "metadata": {},
     "output_type": "display_data"
    },
    {
     "name": "stdout",
     "output_type": "stream",
     "text": [
      "Dependencies imported\n"
     ]
    }
   ],
   "source": [
    "from toggle_code import toggle_code as hide_code\n",
    "from toggle_code import run_code as run_code\n",
    "import pandas as pd\n",
    "import json\n",
    "import glob\n",
    "import ipywidgets as widgets\n",
    "from ipywidgets import interact, Layout\n",
    "import re\n",
    "import numpy as np\n",
    "import random\n",
    "import os\n",
    "\n",
    "print (\"Dependencies imported\")"
   ]
  },
  {
   "cell_type": "markdown",
   "metadata": {},
   "source": [
    "# 1. Select the population density file you want to merge with demographics files.\n",
    "\n"
   ]
  },
  {
   "cell_type": "code",
   "execution_count": 3,
   "metadata": {},
   "outputs": [
    {
     "data": {
      "text/html": [
       "\n",
       "<form action=\"javascript:code_toggle()\"><input type=\"submit\" id=\"toggleButton\" value=\"Hide/Show Code\"></form>\n"
      ],
      "text/plain": [
       "<IPython.core.display.HTML object>"
      ]
     },
     "metadata": {},
     "output_type": "display_data"
    },
    {
     "data": {
      "text/html": [
       "\n",
       "<form action=\"javascript:Jupyter.notebook.execute_cell()\"><input type =\"submit\" id=\"runButton\" value=\"Run Cell\"></form>\n"
      ],
      "text/plain": [
       "<IPython.core.display.HTML object>"
      ]
     },
     "metadata": {},
     "output_type": "display_data"
    },
    {
     "name": "stdout",
     "output_type": "stream",
     "text": [
      "Select the output from the Density Exploration and Conversion file:\n"
     ]
    },
    {
     "data": {
      "application/vnd.jupyter.widget-view+json": {
       "model_id": "5bb2f2a3c49f45febb40422f7df60cdd",
       "version_major": 2,
       "version_minor": 0
      },
      "text/plain": [
       "interactive(children=(Select(description='File: ', layout=Layout(height='260px', width='50%'), options=('None …"
      ]
     },
     "metadata": {},
     "output_type": "display_data"
    }
   ],
   "source": [
    "hide_code()\n",
    "run_code()\n",
    "\n",
    "#get files\n",
    "files = [\"None Selected\"]\n",
    "filepath= r\"./data/*\"\n",
    "for pop_file in glob.glob(filepath):\n",
    "    if \".csv\" in pop_file or \".json\" in pop_file: \n",
    "        files.append(pop_file)\n",
    "\n",
    "print(\"Select the output from the Density Exploration and Conversion file:\")\n",
    "pop_file = widgets.Select(options=files, value=files[0], \n",
    "                                  description=\"File: \",\n",
    "                                  disabled = False,\n",
    "                                  layout=Layout(width=\"50%\", height=\"260px\"))\n",
    "\n",
    "def update(file):\n",
    "    return file\n",
    "\n",
    "pop_file_select = interact(update, file=pop_file)\n",
    "      "
   ]
  },
  {
   "cell_type": "markdown",
   "metadata": {},
   "source": [
    "# 2. Create base table from density file"
   ]
  },
  {
   "cell_type": "code",
   "execution_count": 4,
   "metadata": {},
   "outputs": [
    {
     "data": {
      "text/html": [
       "\n",
       "<form action=\"javascript:code_toggle()\"><input type=\"submit\" id=\"toggleButton\" value=\"Hide/Show Code\"></form>\n"
      ],
      "text/plain": [
       "<IPython.core.display.HTML object>"
      ]
     },
     "metadata": {},
     "output_type": "display_data"
    },
    {
     "data": {
      "text/html": [
       "\n",
       "<form action=\"javascript:Jupyter.notebook.execute_cell()\"><input type =\"submit\" id=\"runButton\" value=\"Run Cell\"></form>\n"
      ],
      "text/plain": [
       "<IPython.core.display.HTML object>"
      ]
     },
     "metadata": {},
     "output_type": "display_data"
    },
    {
     "data": {
      "text/plain": [
       "'Waiting for Inputs'"
      ]
     },
     "execution_count": 4,
     "metadata": {},
     "output_type": "execute_result"
    }
   ],
   "source": [
    "hide_code()\n",
    "run_code()\n",
    "\n",
    "main = pop_file.value\n",
    "main_key = \"\"\n",
    "ref = {}\n",
    "syn_pop = \"Waiting for Inputs\"\n",
    "\n",
    "if main == 'None Selected':\n",
    "    pass\n",
    "\n",
    "else:\n",
    "    print(\"Getting base table.\")\n",
    "    for file in files: \n",
    "        if file == 'None Selected' or \"json\" not in file:\n",
    "            pass\n",
    "        else: \n",
    "            #get key for dict\n",
    "            key = re.split(r'\\\\', file)\n",
    "            key = key[1].split('.')\n",
    "            ref[key[0]]= pd.read_json(file)\n",
    "            if key[0] in main: \n",
    "                main_key = key[0]\n",
    "\n",
    "    syn_pop = ref.pop(main_key)\n",
    "syn_pop"
   ]
  },
  {
   "cell_type": "markdown",
   "metadata": {},
   "source": [
    "# 3. Merge demographic files into one dataframe"
   ]
  },
  {
   "cell_type": "code",
   "execution_count": 5,
   "metadata": {},
   "outputs": [
    {
     "data": {
      "text/html": [
       "\n",
       "<form action=\"javascript:code_toggle()\"><input type=\"submit\" id=\"toggleButton\" value=\"Hide/Show Code\"></form>\n"
      ],
      "text/plain": [
       "<IPython.core.display.HTML object>"
      ]
     },
     "metadata": {},
     "output_type": "display_data"
    },
    {
     "data": {
      "text/html": [
       "\n",
       "<form action=\"javascript:Jupyter.notebook.execute_cell()\"><input type =\"submit\" id=\"runButton\" value=\"Run Cell\"></form>\n"
      ],
      "text/plain": [
       "<IPython.core.display.HTML object>"
      ]
     },
     "metadata": {},
     "output_type": "display_data"
    },
    {
     "data": {
      "text/plain": [
       "'Waiting for Inputs'"
      ]
     },
     "execution_count": 5,
     "metadata": {},
     "output_type": "execute_result"
    }
   ],
   "source": [
    "hide_code()\n",
    "run_code()\n",
    "\n",
    "if main == 'None Selected':\n",
    "    pass\n",
    "\n",
    "else:\n",
    "    for key,value in ref.items(): \n",
    "            print(\"Merging \"+ key)\n",
    "            del value[\"Percent\"]\n",
    "            syn_pop = pd.merge(syn_pop, value, how =\"left\", on=[\"latitude\", \"longitude\"])\n",
    "\n",
    "\n",
    "        #del syn_pop[\"Population_density\"]\n",
    "\n",
    "syn_pop"
   ]
  },
  {
   "cell_type": "markdown",
   "metadata": {},
   "source": [
    "# 4. Compare population density to demographic totals "
   ]
  },
  {
   "cell_type": "code",
   "execution_count": 6,
   "metadata": {},
   "outputs": [
    {
     "data": {
      "text/html": [
       "\n",
       "<form action=\"javascript:code_toggle()\"><input type=\"submit\" id=\"toggleButton\" value=\"Hide/Show Code\"></form>\n"
      ],
      "text/plain": [
       "<IPython.core.display.HTML object>"
      ]
     },
     "metadata": {},
     "output_type": "display_data"
    },
    {
     "data": {
      "text/html": [
       "\n",
       "<form action=\"javascript:Jupyter.notebook.execute_cell()\"><input type =\"submit\" id=\"runButton\" value=\"Run Cell\"></form>\n"
      ],
      "text/plain": [
       "<IPython.core.display.HTML object>"
      ]
     },
     "metadata": {},
     "output_type": "display_data"
    },
    {
     "name": "stdout",
     "output_type": "stream",
     "text": [
      "Waiting for inputs\n"
     ]
    }
   ],
   "source": [
    "hide_code()\n",
    "run_code()\n",
    "\n",
    "\n",
    "if main == 'None Selected':\n",
    "    print (\"Waiting for inputs\")\n",
    "\n",
    "else: \n",
    "    syn_pop = syn_pop.replace(np.nan,0)\n",
    "    syn_pop[\"dem_total\"] = syn_pop[syn_pop.columns[6:]].sum(axis=1)\n",
    "    syn_pop\n",
    "\n",
    "    total = syn_pop[\"Population\"].sum()\n",
    "    dem_total = syn_pop[\"dem_total\"].sum()\n",
    "    print (\"Your population density total is {}\".format(total))\n",
    "    print(\"Your demographic total is {}\".format(dem_total))\n",
    "\n",
    "    def fill_dems(row, diff):\n",
    "        while diff>0:\n",
    "            choice = random.choice(list(syn_pop.columns[6:-2]))\n",
    "            row[choice] += 1\n",
    "            diff -= 1\n",
    "\n",
    "    if total == dem_total:\n",
    "        print(\"Density and Demographic totals are equal no further action required.\")\n",
    "    else: \n",
    "        if total > dem_total: #changes \n",
    "            print(\"The population total is more thant the demogrpahic total, this will take awhile to compute...\")\n",
    "            #TODO Come up with better way\n",
    "            syn_pop['fill'] = np.where((syn_pop['dem_total'] < syn_pop['Population']),\n",
    "                                       syn_pop['Population']-syn_pop[\"dem_total\"], 0) \n",
    "            for idx, row in syn_pop.iterrows():\n",
    "                if row[\"fill\"] >0:\n",
    "                    fill_dems(row, row[\"fill\"])   \n",
    "        else: \n",
    "            print(\"Your demographic population is more than your population density.\")\n",
    "            print(\"Your population density now reflects the demographic data.\")\n",
    "            syn_pop[\"Population\"] = syn_pop[\"dem_total\"]\n",
    "            del syn_pop[\"dem_total\"]\n",
    "\n"
   ]
  },
  {
   "cell_type": "markdown",
   "metadata": {},
   "source": [
    "# 5. How do you want to save your file?"
   ]
  },
  {
   "cell_type": "code",
   "execution_count": 7,
   "metadata": {},
   "outputs": [
    {
     "data": {
      "text/html": [
       "\n",
       "<form action=\"javascript:code_toggle()\"><input type=\"submit\" id=\"toggleButton\" value=\"Hide/Show Code\"></form>\n"
      ],
      "text/plain": [
       "<IPython.core.display.HTML object>"
      ]
     },
     "metadata": {},
     "output_type": "display_data"
    },
    {
     "data": {
      "text/html": [
       "\n",
       "<form action=\"javascript:Jupyter.notebook.execute_cell()\"><input type =\"submit\" id=\"runButton\" value=\"Run Cell\"></form>\n"
      ],
      "text/plain": [
       "<IPython.core.display.HTML object>"
      ]
     },
     "metadata": {},
     "output_type": "display_data"
    },
    {
     "name": "stdout",
     "output_type": "stream",
     "text": [
      "Waiting for Inputs\n"
     ]
    }
   ],
   "source": [
    "hide_code()\n",
    "run_code()\n",
    "\n",
    "\n",
    "if main == 'None Selected':\n",
    "    print(\"Waiting for Inputs\")\n",
    "else:\n",
    "    print(\"Do you want to drop 0 values to make a smaller file?\")\n",
    "    drop =[\"Yes\", \"No\"]\n",
    "    drop_0 = widgets.Dropdown(options=drop,\n",
    "                              value= drop[0],                        \n",
    "                              description=\"Drop: \",\n",
    "                              disabled = False)\n",
    "\n",
    "    def update1(Drop):\n",
    "        return Drop\n",
    "\n",
    "\n",
    "    drop_select = interact(update1, Drop= drop_0)\n",
    "\n",
    "    print(\"Do you want to save as a csv or json?\")\n",
    "\n",
    "    file_type = [\"csv\", \"json\"]\n",
    "\n",
    "    file_select = widgets.Dropdown(options=file_type,\n",
    "                                   value = file_type[0],\n",
    "                                   description=\"File\",disabled = False)\n",
    "\n",
    "    def update2(File_type):\n",
    "        return File_type\n",
    "\n",
    "\n",
    "\n",
    "    file_selected = interact(update2, File_type= file_select)\n"
   ]
  },
  {
   "cell_type": "markdown",
   "metadata": {},
   "source": [
    "# 6. Save your file"
   ]
  },
  {
   "cell_type": "code",
   "execution_count": 8,
   "metadata": {},
   "outputs": [
    {
     "data": {
      "text/html": [
       "\n",
       "<form action=\"javascript:code_toggle()\"><input type=\"submit\" id=\"toggleButton\" value=\"Hide/Show Code\"></form>\n"
      ],
      "text/plain": [
       "<IPython.core.display.HTML object>"
      ]
     },
     "metadata": {},
     "output_type": "display_data"
    },
    {
     "data": {
      "text/html": [
       "\n",
       "<form action=\"javascript:Jupyter.notebook.execute_cell()\"><input type =\"submit\" id=\"runButton\" value=\"Run Cell\"></form>\n"
      ],
      "text/plain": [
       "<IPython.core.display.HTML object>"
      ]
     },
     "metadata": {},
     "output_type": "display_data"
    },
    {
     "name": "stdout",
     "output_type": "stream",
     "text": [
      "Waiting for inputs\n"
     ]
    }
   ],
   "source": [
    "hide_code()\n",
    "run_code()\n",
    "\n",
    "\n",
    "if main == 'None Selected':\n",
    "    print(\"Waiting for inputs\")\n",
    "else:\n",
    "    if drop_0.value == \"Yes\":\n",
    "        syn_pop = syn_pop[syn_pop[\"Population\"]!=0]\n",
    "\n",
    "    filepath = os.path.join(r\".\\data\", \"synthetic_population\")\n",
    "\n",
    "    if file_select.value == \"csv\":\n",
    "        filepath =filepath+\".csv\"\n",
    "        syn_pop.to_csv(filepath)\n",
    "        print(filepath + \" is saved.\")\n",
    "    else: \n",
    "        filepath =filepath+\".json\"\n",
    "        syn_pop.to_json(filepath)\n",
    "        print(filepath + \" is saved\")"
   ]
  },
  {
   "cell_type": "code",
   "execution_count": null,
   "metadata": {},
   "outputs": [],
   "source": []
  },
  {
   "cell_type": "code",
   "execution_count": null,
   "metadata": {},
   "outputs": [],
   "source": []
  }
 ],
 "metadata": {
  "kernelspec": {
   "display_name": "Python 3",
   "language": "python",
   "name": "python3"
  },
  "language_info": {
   "codemirror_mode": {
    "name": "ipython",
    "version": 3
   },
   "file_extension": ".py",
   "mimetype": "text/x-python",
   "name": "python",
   "nbconvert_exporter": "python",
   "pygments_lexer": "ipython3",
   "version": "3.9.2"
  }
 },
 "nbformat": 4,
 "nbformat_minor": 4
}
