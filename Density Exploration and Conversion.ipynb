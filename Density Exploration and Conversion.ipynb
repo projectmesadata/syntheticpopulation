{
 "cells": [
  {
   "cell_type": "code",
   "execution_count": 1,
   "metadata": {},
   "outputs": [
    {
     "data": {
      "text/html": [
       "<script>\n",
       "    // AUTORUN ALL CELLS ON NOTEBOOK-LOAD!\n",
       "    require(\n",
       "        ['base/js/namespace', 'jquery'], \n",
       "        function(jupyter, $) {\n",
       "            $(jupyter.events).on(\"kernel_ready.Kernel\", function () {\n",
       "                console.log(\"Auto-running all cells-below...\");\n",
       "                jupyter.actions.call('jupyter-notebook:run-all-cells-below');\n",
       "                jupyter.notebook.scroll_to_top();\n",
       "                jupyter.actions.call('jupyter-notebook:save-notebook');                \n",
       "                \n",
       "            });\n",
       "        });\n",
       "        \n",
       "        $( document ).ready(function(){\n",
       "        code_shown=false;\n",
       "        $('div.input').hide()});\n",
       "    \n",
       "    \n",
       "</script>\n"
      ],
      "text/plain": [
       "<IPython.core.display.HTML object>"
      ]
     },
     "metadata": {},
     "output_type": "display_data"
    }
   ],
   "source": [
    "%%html\n",
    "<script>\n",
    "    // AUTORUN ALL CELLS ON NOTEBOOK-LOAD!\n",
    "    require(\n",
    "        ['base/js/namespace', 'jquery'], \n",
    "        function(jupyter, $) {\n",
    "            $(jupyter.events).on(\"kernel_ready.Kernel\", function () {\n",
    "                console.log(\"Auto-running all cells-below...\");\n",
    "                jupyter.actions.call('jupyter-notebook:run-all-cells-below');\n",
    "                jupyter.notebook.scroll_to_top();\n",
    "                jupyter.actions.call('jupyter-notebook:save-notebook');                \n",
    "                \n",
    "            });\n",
    "        });\n",
    "        \n",
    "        $( document ).ready(function(){\n",
    "        code_shown=false;\n",
    "        $('div.input').hide()});\n",
    "    \n",
    "    \n",
    "</script>"
   ]
  },
  {
   "cell_type": "markdown",
   "metadata": {},
   "source": [
    "Note: Above this cell is a hidden cell that hides and runs all code in the file. This is intended for those who do not want to see or interact with the code. It can be seen by converting the cell to markdown(see toolbar above) and then back to code."
   ]
  },
  {
   "cell_type": "markdown",
   "metadata": {},
   "source": [
    "# Overview\n",
    "\n",
    "The following steps walk users through converting their WorldPop data of interest from the decimal based numbers to integers. This is necessary for discrete agent object creation. \n",
    "\n",
    "- It also produces a heat map of population density for the country of interest.\n",
    "\n",
    "- Due to the potential size of the population files syntheticpopulation uses hdf5 (saved as h5) file format to keep the data on disk rather than RAM. **Please be aware depending on the country this may take up substantial memory.** As an example a country like Niger based on geogrpahic size takes up approximately 70 gigabytes. \n",
    "\n",
    "- The next step is the density and demographic merge files, if the user has done demographic exploration and conversion. "
   ]
  },
  {
   "cell_type": "markdown",
   "metadata": {},
   "source": [
    "## 0: Import the Dependencies"
   ]
  },
  {
   "cell_type": "code",
   "execution_count": 2,
   "metadata": {},
   "outputs": [
    {
     "data": {
      "text/html": [
       "\n",
       "    <script>\n",
       "    function code_toggle() {\n",
       "        if ($('div.cell.code_cell.rendered.selected div.input').css('display') !='none'){\n",
       "            $('div.cell.code_cell.rendered.selected div.input').hide('500');\n",
       "        } else {\n",
       "            $('div.cell.code_cell.rendered.selected div.input').show('500');\n",
       "            \n",
       "        }\n",
       "        \n",
       "    }\n",
       "    </script>\n",
       "\n",
       "\n",
       "<form action=\"javascript:code_toggle()\"><input type=\"submit\" id=\"toggleButton\" value=\"Hide/Show Code\"></form>\n"
      ],
      "text/plain": [
       "<IPython.core.display.HTML object>"
      ]
     },
     "metadata": {},
     "output_type": "display_data"
    },
    {
     "data": {
      "text/html": [
       "\n",
       "<form action=\"javascript:Jupyter.notebook.execute_cell()\"><input type =\"submit\" id=\"runButton\" value=\"Run Cell\"></form>\n"
      ],
      "text/plain": [
       "<IPython.core.display.HTML object>"
      ]
     },
     "metadata": {},
     "output_type": "display_data"
    },
    {
     "data": {
      "text/html": [
       "\n",
       "    <div class=\"bk-root\">\n",
       "        <a href=\"https://bokeh.org\" target=\"_blank\" class=\"bk-logo bk-logo-small bk-logo-notebook\"></a>\n",
       "        <span id=\"1004\">Loading BokehJS ...</span>\n",
       "    </div>"
      ]
     },
     "metadata": {},
     "output_type": "display_data"
    },
    {
     "data": {
      "application/javascript": [
       "\n",
       "(function(root) {\n",
       "  function now() {\n",
       "    return new Date();\n",
       "  }\n",
       "\n",
       "  var force = true;\n",
       "\n",
       "  if (typeof root._bokeh_onload_callbacks === \"undefined\" || force === true) {\n",
       "    root._bokeh_onload_callbacks = [];\n",
       "    root._bokeh_is_loading = undefined;\n",
       "  }\n",
       "\n",
       "  var JS_MIME_TYPE = 'application/javascript';\n",
       "  var HTML_MIME_TYPE = 'text/html';\n",
       "  var EXEC_MIME_TYPE = 'application/vnd.bokehjs_exec.v0+json';\n",
       "  var CLASS_NAME = 'output_bokeh rendered_html';\n",
       "\n",
       "  /**\n",
       "   * Render data to the DOM node\n",
       "   */\n",
       "  function render(props, node) {\n",
       "    var script = document.createElement(\"script\");\n",
       "    node.appendChild(script);\n",
       "  }\n",
       "\n",
       "  /**\n",
       "   * Handle when an output is cleared or removed\n",
       "   */\n",
       "  function handleClearOutput(event, handle) {\n",
       "    var cell = handle.cell;\n",
       "\n",
       "    var id = cell.output_area._bokeh_element_id;\n",
       "    var server_id = cell.output_area._bokeh_server_id;\n",
       "    // Clean up Bokeh references\n",
       "    if (id != null && id in Bokeh.index) {\n",
       "      Bokeh.index[id].model.document.clear();\n",
       "      delete Bokeh.index[id];\n",
       "    }\n",
       "\n",
       "    if (server_id !== undefined) {\n",
       "      // Clean up Bokeh references\n",
       "      var cmd = \"from bokeh.io.state import curstate; print(curstate().uuid_to_server['\" + server_id + \"'].get_sessions()[0].document.roots[0]._id)\";\n",
       "      cell.notebook.kernel.execute(cmd, {\n",
       "        iopub: {\n",
       "          output: function(msg) {\n",
       "            var id = msg.content.text.trim();\n",
       "            if (id in Bokeh.index) {\n",
       "              Bokeh.index[id].model.document.clear();\n",
       "              delete Bokeh.index[id];\n",
       "            }\n",
       "          }\n",
       "        }\n",
       "      });\n",
       "      // Destroy server and session\n",
       "      var cmd = \"import bokeh.io.notebook as ion; ion.destroy_server('\" + server_id + \"')\";\n",
       "      cell.notebook.kernel.execute(cmd);\n",
       "    }\n",
       "  }\n",
       "\n",
       "  /**\n",
       "   * Handle when a new output is added\n",
       "   */\n",
       "  function handleAddOutput(event, handle) {\n",
       "    var output_area = handle.output_area;\n",
       "    var output = handle.output;\n",
       "\n",
       "    // limit handleAddOutput to display_data with EXEC_MIME_TYPE content only\n",
       "    if ((output.output_type != \"display_data\") || (!Object.prototype.hasOwnProperty.call(output.data, EXEC_MIME_TYPE))) {\n",
       "      return\n",
       "    }\n",
       "\n",
       "    var toinsert = output_area.element.find(\".\" + CLASS_NAME.split(' ')[0]);\n",
       "\n",
       "    if (output.metadata[EXEC_MIME_TYPE][\"id\"] !== undefined) {\n",
       "      toinsert[toinsert.length - 1].firstChild.textContent = output.data[JS_MIME_TYPE];\n",
       "      // store reference to embed id on output_area\n",
       "      output_area._bokeh_element_id = output.metadata[EXEC_MIME_TYPE][\"id\"];\n",
       "    }\n",
       "    if (output.metadata[EXEC_MIME_TYPE][\"server_id\"] !== undefined) {\n",
       "      var bk_div = document.createElement(\"div\");\n",
       "      bk_div.innerHTML = output.data[HTML_MIME_TYPE];\n",
       "      var script_attrs = bk_div.children[0].attributes;\n",
       "      for (var i = 0; i < script_attrs.length; i++) {\n",
       "        toinsert[toinsert.length - 1].firstChild.setAttribute(script_attrs[i].name, script_attrs[i].value);\n",
       "        toinsert[toinsert.length - 1].firstChild.textContent = bk_div.children[0].textContent\n",
       "      }\n",
       "      // store reference to server id on output_area\n",
       "      output_area._bokeh_server_id = output.metadata[EXEC_MIME_TYPE][\"server_id\"];\n",
       "    }\n",
       "  }\n",
       "\n",
       "  function register_renderer(events, OutputArea) {\n",
       "\n",
       "    function append_mime(data, metadata, element) {\n",
       "      // create a DOM node to render to\n",
       "      var toinsert = this.create_output_subarea(\n",
       "        metadata,\n",
       "        CLASS_NAME,\n",
       "        EXEC_MIME_TYPE\n",
       "      );\n",
       "      this.keyboard_manager.register_events(toinsert);\n",
       "      // Render to node\n",
       "      var props = {data: data, metadata: metadata[EXEC_MIME_TYPE]};\n",
       "      render(props, toinsert[toinsert.length - 1]);\n",
       "      element.append(toinsert);\n",
       "      return toinsert\n",
       "    }\n",
       "\n",
       "    /* Handle when an output is cleared or removed */\n",
       "    events.on('clear_output.CodeCell', handleClearOutput);\n",
       "    events.on('delete.Cell', handleClearOutput);\n",
       "\n",
       "    /* Handle when a new output is added */\n",
       "    events.on('output_added.OutputArea', handleAddOutput);\n",
       "\n",
       "    /**\n",
       "     * Register the mime type and append_mime function with output_area\n",
       "     */\n",
       "    OutputArea.prototype.register_mime_type(EXEC_MIME_TYPE, append_mime, {\n",
       "      /* Is output safe? */\n",
       "      safe: true,\n",
       "      /* Index of renderer in `output_area.display_order` */\n",
       "      index: 0\n",
       "    });\n",
       "  }\n",
       "\n",
       "  // register the mime type if in Jupyter Notebook environment and previously unregistered\n",
       "  if (root.Jupyter !== undefined) {\n",
       "    var events = require('base/js/events');\n",
       "    var OutputArea = require('notebook/js/outputarea').OutputArea;\n",
       "\n",
       "    if (OutputArea.prototype.mime_types().indexOf(EXEC_MIME_TYPE) == -1) {\n",
       "      register_renderer(events, OutputArea);\n",
       "    }\n",
       "  }\n",
       "\n",
       "  \n",
       "  if (typeof (root._bokeh_timeout) === \"undefined\" || force === true) {\n",
       "    root._bokeh_timeout = Date.now() + 5000;\n",
       "    root._bokeh_failed_load = false;\n",
       "  }\n",
       "\n",
       "  var NB_LOAD_WARNING = {'data': {'text/html':\n",
       "     \"<div style='background-color: #fdd'>\\n\"+\n",
       "     \"<p>\\n\"+\n",
       "     \"BokehJS does not appear to have successfully loaded. If loading BokehJS from CDN, this \\n\"+\n",
       "     \"may be due to a slow or bad network connection. Possible fixes:\\n\"+\n",
       "     \"</p>\\n\"+\n",
       "     \"<ul>\\n\"+\n",
       "     \"<li>re-rerun `output_notebook()` to attempt to load from CDN again, or</li>\\n\"+\n",
       "     \"<li>use INLINE resources instead, as so:</li>\\n\"+\n",
       "     \"</ul>\\n\"+\n",
       "     \"<code>\\n\"+\n",
       "     \"from bokeh.resources import INLINE\\n\"+\n",
       "     \"output_notebook(resources=INLINE)\\n\"+\n",
       "     \"</code>\\n\"+\n",
       "     \"</div>\"}};\n",
       "\n",
       "  function display_loaded() {\n",
       "    var el = document.getElementById(\"1004\");\n",
       "    if (el != null) {\n",
       "      el.textContent = \"BokehJS is loading...\";\n",
       "    }\n",
       "    if (root.Bokeh !== undefined) {\n",
       "      if (el != null) {\n",
       "        el.textContent = \"BokehJS \" + root.Bokeh.version + \" successfully loaded.\";\n",
       "      }\n",
       "    } else if (Date.now() < root._bokeh_timeout) {\n",
       "      setTimeout(display_loaded, 100)\n",
       "    }\n",
       "  }\n",
       "\n",
       "\n",
       "  function run_callbacks() {\n",
       "    try {\n",
       "      root._bokeh_onload_callbacks.forEach(function(callback) {\n",
       "        if (callback != null)\n",
       "          callback();\n",
       "      });\n",
       "    } finally {\n",
       "      delete root._bokeh_onload_callbacks\n",
       "    }\n",
       "    console.debug(\"Bokeh: all callbacks have finished\");\n",
       "  }\n",
       "\n",
       "  function load_libs(css_urls, js_urls, callback) {\n",
       "    if (css_urls == null) css_urls = [];\n",
       "    if (js_urls == null) js_urls = [];\n",
       "\n",
       "    root._bokeh_onload_callbacks.push(callback);\n",
       "    if (root._bokeh_is_loading > 0) {\n",
       "      console.debug(\"Bokeh: BokehJS is being loaded, scheduling callback at\", now());\n",
       "      return null;\n",
       "    }\n",
       "    if (js_urls == null || js_urls.length === 0) {\n",
       "      run_callbacks();\n",
       "      return null;\n",
       "    }\n",
       "    console.debug(\"Bokeh: BokehJS not loaded, scheduling load and callback at\", now());\n",
       "    root._bokeh_is_loading = css_urls.length + js_urls.length;\n",
       "\n",
       "    function on_load() {\n",
       "      root._bokeh_is_loading--;\n",
       "      if (root._bokeh_is_loading === 0) {\n",
       "        console.debug(\"Bokeh: all BokehJS libraries/stylesheets loaded\");\n",
       "        run_callbacks()\n",
       "      }\n",
       "    }\n",
       "\n",
       "    function on_error(url) {\n",
       "      console.error(\"failed to load \" + url);\n",
       "    }\n",
       "\n",
       "    for (let i = 0; i < css_urls.length; i++) {\n",
       "      const url = css_urls[i];\n",
       "      const element = document.createElement(\"link\");\n",
       "      element.onload = on_load;\n",
       "      element.onerror = on_error.bind(null, url);\n",
       "      element.rel = \"stylesheet\";\n",
       "      element.type = \"text/css\";\n",
       "      element.href = url;\n",
       "      console.debug(\"Bokeh: injecting link tag for BokehJS stylesheet: \", url);\n",
       "      document.body.appendChild(element);\n",
       "    }\n",
       "\n",
       "    const hashes = {\"https://cdn.bokeh.org/bokeh/release/bokeh-2.3.0.min.js\": \"HjagQp6T0/7bxYTAXbLotF1MLAGWmhkY5siA1Gc/pcEgvgRPtMsRn0gQtMwGKiw1\", \"https://cdn.bokeh.org/bokeh/release/bokeh-widgets-2.3.0.min.js\": \"ZEPPTjL+mdyqgIq+/pl9KTwzji8Kow2NnI3zWY8+sFinWP/SYJ80BnfeJsa45iYj\", \"https://cdn.bokeh.org/bokeh/release/bokeh-tables-2.3.0.min.js\": \"exLqv2ACDRIaV7ZK1iL8aGzGYQvKVuT3U2CT7FsQREBxRah6JrkVCoFy0koY1YqV\"};\n",
       "\n",
       "    for (let i = 0; i < js_urls.length; i++) {\n",
       "      const url = js_urls[i];\n",
       "      const element = document.createElement('script');\n",
       "      element.onload = on_load;\n",
       "      element.onerror = on_error.bind(null, url);\n",
       "      element.async = false;\n",
       "      element.src = url;\n",
       "      if (url in hashes) {\n",
       "        element.crossOrigin = \"anonymous\";\n",
       "        element.integrity = \"sha384-\" + hashes[url];\n",
       "      }\n",
       "      console.debug(\"Bokeh: injecting script tag for BokehJS library: \", url);\n",
       "      document.head.appendChild(element);\n",
       "    }\n",
       "  };\n",
       "\n",
       "  function inject_raw_css(css) {\n",
       "    const element = document.createElement(\"style\");\n",
       "    element.appendChild(document.createTextNode(css));\n",
       "    document.body.appendChild(element);\n",
       "  }\n",
       "\n",
       "  \n",
       "  var js_urls = [\"https://cdn.bokeh.org/bokeh/release/bokeh-2.3.0.min.js\", \"https://cdn.bokeh.org/bokeh/release/bokeh-widgets-2.3.0.min.js\", \"https://cdn.bokeh.org/bokeh/release/bokeh-tables-2.3.0.min.js\"];\n",
       "  var css_urls = [];\n",
       "  \n",
       "\n",
       "  var inline_js = [\n",
       "    function(Bokeh) {\n",
       "      Bokeh.set_log_level(\"info\");\n",
       "    },\n",
       "    function(Bokeh) {\n",
       "    \n",
       "    \n",
       "    }\n",
       "  ];\n",
       "\n",
       "  function run_inline_js() {\n",
       "    \n",
       "    if (root.Bokeh !== undefined || force === true) {\n",
       "      \n",
       "    for (var i = 0; i < inline_js.length; i++) {\n",
       "      inline_js[i].call(root, root.Bokeh);\n",
       "    }\n",
       "    if (force === true) {\n",
       "        display_loaded();\n",
       "      }} else if (Date.now() < root._bokeh_timeout) {\n",
       "      setTimeout(run_inline_js, 100);\n",
       "    } else if (!root._bokeh_failed_load) {\n",
       "      console.log(\"Bokeh: BokehJS failed to load within specified timeout.\");\n",
       "      root._bokeh_failed_load = true;\n",
       "    } else if (force !== true) {\n",
       "      var cell = $(document.getElementById(\"1004\")).parents('.cell').data().cell;\n",
       "      cell.output_area.append_execute_result(NB_LOAD_WARNING)\n",
       "    }\n",
       "\n",
       "  }\n",
       "\n",
       "  if (root._bokeh_is_loading === 0) {\n",
       "    console.debug(\"Bokeh: BokehJS loaded, going straight to plotting\");\n",
       "    run_inline_js();\n",
       "  } else {\n",
       "    load_libs(css_urls, js_urls, function() {\n",
       "      console.debug(\"Bokeh: BokehJS plotting callback run at\", now());\n",
       "      run_inline_js();\n",
       "    });\n",
       "  }\n",
       "}(window));"
      ],
      "application/vnd.bokehjs_load.v0+json": "\n(function(root) {\n  function now() {\n    return new Date();\n  }\n\n  var force = true;\n\n  if (typeof root._bokeh_onload_callbacks === \"undefined\" || force === true) {\n    root._bokeh_onload_callbacks = [];\n    root._bokeh_is_loading = undefined;\n  }\n\n  \n\n  \n  if (typeof (root._bokeh_timeout) === \"undefined\" || force === true) {\n    root._bokeh_timeout = Date.now() + 5000;\n    root._bokeh_failed_load = false;\n  }\n\n  var NB_LOAD_WARNING = {'data': {'text/html':\n     \"<div style='background-color: #fdd'>\\n\"+\n     \"<p>\\n\"+\n     \"BokehJS does not appear to have successfully loaded. If loading BokehJS from CDN, this \\n\"+\n     \"may be due to a slow or bad network connection. Possible fixes:\\n\"+\n     \"</p>\\n\"+\n     \"<ul>\\n\"+\n     \"<li>re-rerun `output_notebook()` to attempt to load from CDN again, or</li>\\n\"+\n     \"<li>use INLINE resources instead, as so:</li>\\n\"+\n     \"</ul>\\n\"+\n     \"<code>\\n\"+\n     \"from bokeh.resources import INLINE\\n\"+\n     \"output_notebook(resources=INLINE)\\n\"+\n     \"</code>\\n\"+\n     \"</div>\"}};\n\n  function display_loaded() {\n    var el = document.getElementById(\"1004\");\n    if (el != null) {\n      el.textContent = \"BokehJS is loading...\";\n    }\n    if (root.Bokeh !== undefined) {\n      if (el != null) {\n        el.textContent = \"BokehJS \" + root.Bokeh.version + \" successfully loaded.\";\n      }\n    } else if (Date.now() < root._bokeh_timeout) {\n      setTimeout(display_loaded, 100)\n    }\n  }\n\n\n  function run_callbacks() {\n    try {\n      root._bokeh_onload_callbacks.forEach(function(callback) {\n        if (callback != null)\n          callback();\n      });\n    } finally {\n      delete root._bokeh_onload_callbacks\n    }\n    console.debug(\"Bokeh: all callbacks have finished\");\n  }\n\n  function load_libs(css_urls, js_urls, callback) {\n    if (css_urls == null) css_urls = [];\n    if (js_urls == null) js_urls = [];\n\n    root._bokeh_onload_callbacks.push(callback);\n    if (root._bokeh_is_loading > 0) {\n      console.debug(\"Bokeh: BokehJS is being loaded, scheduling callback at\", now());\n      return null;\n    }\n    if (js_urls == null || js_urls.length === 0) {\n      run_callbacks();\n      return null;\n    }\n    console.debug(\"Bokeh: BokehJS not loaded, scheduling load and callback at\", now());\n    root._bokeh_is_loading = css_urls.length + js_urls.length;\n\n    function on_load() {\n      root._bokeh_is_loading--;\n      if (root._bokeh_is_loading === 0) {\n        console.debug(\"Bokeh: all BokehJS libraries/stylesheets loaded\");\n        run_callbacks()\n      }\n    }\n\n    function on_error(url) {\n      console.error(\"failed to load \" + url);\n    }\n\n    for (let i = 0; i < css_urls.length; i++) {\n      const url = css_urls[i];\n      const element = document.createElement(\"link\");\n      element.onload = on_load;\n      element.onerror = on_error.bind(null, url);\n      element.rel = \"stylesheet\";\n      element.type = \"text/css\";\n      element.href = url;\n      console.debug(\"Bokeh: injecting link tag for BokehJS stylesheet: \", url);\n      document.body.appendChild(element);\n    }\n\n    const hashes = {\"https://cdn.bokeh.org/bokeh/release/bokeh-2.3.0.min.js\": \"HjagQp6T0/7bxYTAXbLotF1MLAGWmhkY5siA1Gc/pcEgvgRPtMsRn0gQtMwGKiw1\", \"https://cdn.bokeh.org/bokeh/release/bokeh-widgets-2.3.0.min.js\": \"ZEPPTjL+mdyqgIq+/pl9KTwzji8Kow2NnI3zWY8+sFinWP/SYJ80BnfeJsa45iYj\", \"https://cdn.bokeh.org/bokeh/release/bokeh-tables-2.3.0.min.js\": \"exLqv2ACDRIaV7ZK1iL8aGzGYQvKVuT3U2CT7FsQREBxRah6JrkVCoFy0koY1YqV\"};\n\n    for (let i = 0; i < js_urls.length; i++) {\n      const url = js_urls[i];\n      const element = document.createElement('script');\n      element.onload = on_load;\n      element.onerror = on_error.bind(null, url);\n      element.async = false;\n      element.src = url;\n      if (url in hashes) {\n        element.crossOrigin = \"anonymous\";\n        element.integrity = \"sha384-\" + hashes[url];\n      }\n      console.debug(\"Bokeh: injecting script tag for BokehJS library: \", url);\n      document.head.appendChild(element);\n    }\n  };\n\n  function inject_raw_css(css) {\n    const element = document.createElement(\"style\");\n    element.appendChild(document.createTextNode(css));\n    document.body.appendChild(element);\n  }\n\n  \n  var js_urls = [\"https://cdn.bokeh.org/bokeh/release/bokeh-2.3.0.min.js\", \"https://cdn.bokeh.org/bokeh/release/bokeh-widgets-2.3.0.min.js\", \"https://cdn.bokeh.org/bokeh/release/bokeh-tables-2.3.0.min.js\"];\n  var css_urls = [];\n  \n\n  var inline_js = [\n    function(Bokeh) {\n      Bokeh.set_log_level(\"info\");\n    },\n    function(Bokeh) {\n    \n    \n    }\n  ];\n\n  function run_inline_js() {\n    \n    if (root.Bokeh !== undefined || force === true) {\n      \n    for (var i = 0; i < inline_js.length; i++) {\n      inline_js[i].call(root, root.Bokeh);\n    }\n    if (force === true) {\n        display_loaded();\n      }} else if (Date.now() < root._bokeh_timeout) {\n      setTimeout(run_inline_js, 100);\n    } else if (!root._bokeh_failed_load) {\n      console.log(\"Bokeh: BokehJS failed to load within specified timeout.\");\n      root._bokeh_failed_load = true;\n    } else if (force !== true) {\n      var cell = $(document.getElementById(\"1004\")).parents('.cell').data().cell;\n      cell.output_area.append_execute_result(NB_LOAD_WARNING)\n    }\n\n  }\n\n  if (root._bokeh_is_loading === 0) {\n    console.debug(\"Bokeh: BokehJS loaded, going straight to plotting\");\n    run_inline_js();\n  } else {\n    load_libs(css_urls, js_urls, function() {\n      console.debug(\"Bokeh: BokehJS plotting callback run at\", now());\n      run_inline_js();\n    });\n  }\n}(window));"
     },
     "metadata": {},
     "output_type": "display_data"
    }
   ],
   "source": [
    "from toggle_code import toggle_code as hide_code\n",
    "from toggle_code import run_code as run_code\n",
    "\n",
    "import glob \n",
    "import os\n",
    "from netCDF4 import Dataset\n",
    "import rasterio\n",
    "import pandas as pd\n",
    "import numpy as np\n",
    "import math\n",
    "import datetime\n",
    "import ipywidgets as widgets\n",
    "from ipywidgets import interact\n",
    "from bokeh.io import push_notebook, show, output_notebook\n",
    "from bokeh.plotting import figure\n",
    "from bokeh.tile_providers import get_provider, Vendors\n",
    "from bokeh.palettes import RdYlGn, Plasma256\n",
    "from bokeh.models import Legend, BoxAnnotation, Toggle, CustomJS,ColumnDataSource,LinearColorMapper, ColorBar, BasicTicker,\\\n",
    "                          PrintfTickFormatter \n",
    "from bokeh.transform import transform\n",
    "from bokeh.models.tools import *\n",
    "tile_provider = get_provider('STAMEN_TERRAIN')\n",
    "tile_provider2 = get_provider('CARTODBPOSITRON')\n",
    "import tables #to ensure avialable for pandas\n",
    "#create pyproj transformer to convert form lat/long to web mercator\n",
    "from pyproj import Transformer\n",
    "transformer = Transformer.from_crs('epsg:4326','epsg:3857')\n",
    "#from IPython.display import HTML\n",
    "output_notebook()\n",
    "import warnings\n",
    "warnings.filterwarnings(\"ignore\", message=\"Cannot find a last shown plot to update.\")"
   ]
  },
  {
   "cell_type": "markdown",
   "metadata": {},
   "source": [
    "# 1. Select population file\n",
    "\n",
    "The following code looks in the data folder for an file with the world pop population density marker \"ppp\"."
   ]
  },
  {
   "cell_type": "code",
   "execution_count": 3,
   "metadata": {},
   "outputs": [
    {
     "data": {
      "text/html": [
       "\n",
       "<form action=\"javascript:code_toggle()\"><input type=\"submit\" id=\"toggleButton\" value=\"Hide/Show Code\"></form>\n"
      ],
      "text/plain": [
       "<IPython.core.display.HTML object>"
      ]
     },
     "metadata": {},
     "output_type": "display_data"
    },
    {
     "data": {
      "text/html": [
       "\n",
       "<form action=\"javascript:Jupyter.notebook.execute_cell()\"><input type =\"submit\" id=\"runButton\" value=\"Run Cell\"></form>\n"
      ],
      "text/plain": [
       "<IPython.core.display.HTML object>"
      ]
     },
     "metadata": {},
     "output_type": "display_data"
    },
    {
     "data": {
      "application/vnd.jupyter.widget-view+json": {
       "model_id": "0789feabfde94140823584182ae5f522",
       "version_major": 2,
       "version_minor": 0
      },
      "text/plain": [
       "interactive(children=(Dropdown(description='File: ', options=('Select File', './data\\\\alb_ppp_2020.tif'), valu…"
      ]
     },
     "metadata": {},
     "output_type": "display_data"
    }
   ],
   "source": [
    "hide_code()\n",
    "run_code()\n",
    "\n",
    "\n",
    "pot_list =[\"Select File\"]\n",
    "filepath= r\"./data/*\"\n",
    "for pop_file in glob.glob(filepath):\n",
    "    if \"ppp\" in pop_file: \n",
    "        pot_list.append(pop_file)\n",
    "\n",
    "pop_file = widgets.Dropdown(options=pot_list, value=pot_list[0], description=\"File: \", disabled = False)\n",
    "\n",
    "def update(file):\n",
    "    return file\n",
    "\n",
    "pop_file_select = interact(update, file=pop_file)\n",
    "\n",
    "#call the function \n",
    "\n",
    "\n",
    "#pop_table"
   ]
  },
  {
   "cell_type": "markdown",
   "metadata": {},
   "source": [
    "# 2. Convert file into table\n",
    "\n",
    "The following code converts the downloaded worldpop file into a table of latitudes, longitudes and number of people.\n",
    "\n",
    "6 decimal points for the coordinates represents and accuracy of ~0.11 meters at the equator"
   ]
  },
  {
   "cell_type": "code",
   "execution_count": 4,
   "metadata": {},
   "outputs": [
    {
     "data": {
      "text/html": [
       "\n",
       "<form action=\"javascript:code_toggle()\"><input type=\"submit\" id=\"toggleButton\" value=\"Hide/Show Code\"></form>\n"
      ],
      "text/plain": [
       "<IPython.core.display.HTML object>"
      ]
     },
     "metadata": {},
     "output_type": "display_data"
    },
    {
     "data": {
      "text/html": [
       "\n",
       "<form action=\"javascript:Jupyter.notebook.execute_cell()\"><input type =\"submit\" id=\"runButton\" value=\"Run Cell\"></form>\n"
      ],
      "text/plain": [
       "<IPython.core.display.HTML object>"
      ]
     },
     "metadata": {},
     "output_type": "display_data"
    },
    {
     "name": "stdout",
     "output_type": "stream",
     "text": [
      "Waiting for Input\n"
     ]
    }
   ],
   "source": [
    "hide_code()\n",
    "run_code()\n",
    "# takes in a worldpop dataset url and populates a 3d array with 3 slices, one for the latitude, one for the longitude,\n",
    "# and one for the population at that specified co-ordinate box\n",
    "# The array is then loaded into the dictionary of all the worldpop age and sex demographics\n",
    "\n",
    "if pop_file.value == \"Select File\":\n",
    "    print(\"Waiting for Input\")\n",
    "    pop_table =pd.DataFrame({\"latitiude\":[0], \"longitude\":[0], \"Population\":[0]})\n",
    "else: \n",
    "    data_store =pd.HDFStore(\".\\data\\density.h5\")\n",
    "    \n",
    "    print(\"Depending on the size of your country this may take awhile.....\")\n",
    "    def get_array(filename, data_store):#, demographic, struct_dict):\n",
    "        with rasterio.open(filename) as src:\n",
    "            #read image\n",
    "            image= src.read()\n",
    "            # transform image\n",
    "            bands,rows,cols = np.shape(image)\n",
    "            image1 = image.reshape (rows*cols,bands)\n",
    "            # bounding box of image\n",
    "            l,b,r,t = src.bounds\n",
    "            #resolution of image\n",
    "            res = src.res\n",
    "            # meshgrid of X and Y\n",
    "            x = np.arange(l,r, res[-1])\n",
    "            y = np.arange(t,b, -res[-1])\n",
    "            #adjust for rounding errors\n",
    "            if len(x) != image[0].shape[1]:\n",
    "                diff_x = len(x)-image[0].shape[1]\n",
    "                x = x[0:-diff_x]\n",
    "            if len(y) != image[0].shape[0]:\n",
    "                diff_y = len(y)-image[0].shape[0]\n",
    "                y = y[0:-diff_y]\n",
    "            #TUrn into a two dimensional array of all lats and longs\n",
    "            lon, lat = np.meshgrid(x, y)\n",
    "            lon_flat = lon.flatten()\n",
    "            lat_flat= lat.flatten()\n",
    "            pop_flat= image[0].flatten()\n",
    "            x1, y1 = np.shape(lat)\n",
    "            pop_dict = {\"longitude\":lon_flat, \"latitude\":lat_flat,\"Population\":pop_flat}\n",
    "            pop_table = pd.DataFrame.from_dict(pop_dict)\n",
    "            #Remove non values\n",
    "            pop_table =pop_table[pop_table[\"Population\"]!=-99999.0]\n",
    "            total_peeps = sum(pop_table[\"Population\"])\n",
    "            print(\"There are approximately {} people.\".format(total_peeps))\n",
    "            data_store[\"density\"] = pop_table\n",
    "            data_store[\"visuals\"] = pop_table\n",
    "            return total_peeps\n",
    "\n",
    "    \n",
    "    total = get_array(pop_file.value, data_store)\n",
    "    data_store.close()"
   ]
  },
  {
   "cell_type": "code",
   "execution_count": 5,
   "metadata": {},
   "outputs": [
    {
     "data": {
      "text/html": [
       "\n",
       "<form action=\"javascript:code_toggle()\"><input type=\"submit\" id=\"toggleButton\" value=\"Hide/Show Code\"></form>\n"
      ],
      "text/plain": [
       "<IPython.core.display.HTML object>"
      ]
     },
     "metadata": {},
     "output_type": "display_data"
    },
    {
     "data": {
      "text/html": [
       "\n",
       "<form action=\"javascript:Jupyter.notebook.execute_cell()\"><input type =\"submit\" id=\"runButton\" value=\"Run Cell\"></form>\n"
      ],
      "text/plain": [
       "<IPython.core.display.HTML object>"
      ]
     },
     "metadata": {},
     "output_type": "display_data"
    },
    {
     "name": "stdout",
     "output_type": "stream",
     "text": [
      "Waiting for Input\n"
     ]
    }
   ],
   "source": [
    "hide_code()\n",
    "run_code()\n",
    "\n",
    "if pop_file.value == \"Select File\":\n",
    "    print(\"Waiting for Input\")\n",
    "else: \n",
    "    print(\"Preparing Plot...\")\n",
    "    data_store =pd.HDFStore(\".\\data\\density.h5\")\n",
    "    \n",
    "    viz_table = data_store[\"visuals\"]                            \n",
    "    \n",
    "    lat_min = viz_table[\"latitude\"].min()\n",
    "    lat_max = viz_table[\"latitude\"].max()\n",
    "    lon_min = viz_table[\"longitude\"].min()\n",
    "    lon_max = viz_table[\"longitude\"].max()\n",
    "    \n",
    "    \n",
    "    #Have to convert to 2 decimal places otherwise to dense\n",
    "    #round longitude\n",
    "    viz_table[\"longitude\"] = viz_table[\"longitude\"].round(2)\n",
    "\n",
    "    #round latitude\n",
    "    viz_table[\"latitude\"] = viz_table[\"latitude\"].round(2)\n",
    "    \n",
    "       \n",
    "    viz_table = viz_table.groupby(['longitude','latitude']).sum().reset_index()\n",
    "    \n",
    "    #Clear redundant lats/longs\n",
    "    viz_table =viz_table.drop_duplicates(subset=[\"longitude\", \"latitude\"], ignore_index=True)  \n",
    "      \n",
    "    viz_table['web_lon'], viz_table[\"web_lat\"]  = transformer.transform(viz_table[\"latitude\"].values, \n",
    "                                                                                      viz_table[\"longitude\"].values)\n",
    "    #grouped_poptable2 = grouped_poptable2[grouped_poptable2[\"Population\"]!=0]\n",
    "    new_total2 = round(sum(viz_table[\"Population\"]))\n",
    "        \n",
    "    data_store[\"visuals\"] = viz_table\n",
    "    \n",
    "    min_max_pts = [(lat_min, lon_min), (lat_max, lon_max)]\n",
    "    bbox2 = []\n",
    "    for pt in transformer.itransform(min_max_pts): \n",
    "        bbox2.append(pt)   \n",
    "\n",
    "    size = widgets.IntText(\n",
    "        value=600,\n",
    "        description='Plot Size',\n",
    "        disabled=False\n",
    "    )\n",
    "\n",
    "    title = widgets.Text(\n",
    "        value='Population Density',\n",
    "        description='Title',\n",
    "        disabled=False\n",
    "    )\n",
    "\n",
    "    colors = list(RdYlGn[8]) \n",
    "    colors.reverse()\n",
    "    #Is there a better color mapper?\n",
    "    mapper = LinearColorMapper(palette=colors, low=viz_table.Population.min(),\n",
    "                               high=viz_table.Population.max())\n",
    "\n",
    "    color_bar = ColorBar(color_mapper=mapper, location=(0, 0),\n",
    "                     ticker=BasicTicker(desired_num_ticks=len(colors)))\n",
    "\n",
    "    def heatmap(size, title):\n",
    "\n",
    "        p2 = figure(plot_width=size, plot_height=size, title=title,\n",
    "                    x_range=(bbox2[0][0], bbox2[1][0]),y_range=(bbox2[0][1], bbox2[1][1]),\n",
    "                    x_axis_type=\"mercator\", y_axis_type=\"mercator\")\n",
    "        p2.title.text_font_size = '20pt'\n",
    "        map_base = p2.add_tile(tile_provider2)\n",
    "        map_base.level ='underlay'\n",
    "        #convert source to selected dictionary value\n",
    "        source = ColumnDataSource(viz_table)\n",
    "\n",
    "        p2.rect(x='web_lon', y='web_lat', width=3500, height=3500, source=source,\n",
    "                line_color=None, fill_color= transform(\"Population\", mapper), alpha=0.07)\n",
    "\n",
    "        p2.add_layout(color_bar, 'right')\n",
    "\n",
    "        show(p2)\n",
    "\n",
    "\n",
    "\n",
    "\n",
    "    heatmap_out = interact(heatmap, size = size, title=title)\n",
    "    data_store.close()\n",
    "    "
   ]
  },
  {
   "cell_type": "markdown",
   "metadata": {},
   "source": [
    "# 4. Select the level of accuracy needed\n",
    "\n",
    "After visualizing the data we can select the level of accuracy and if desired the final output to a specific city "
   ]
  },
  {
   "cell_type": "code",
   "execution_count": 6,
   "metadata": {},
   "outputs": [
    {
     "data": {
      "text/html": [
       "\n",
       "<form action=\"javascript:code_toggle()\"><input type=\"submit\" id=\"toggleButton\" value=\"Hide/Show Code\"></form>\n"
      ],
      "text/plain": [
       "<IPython.core.display.HTML object>"
      ]
     },
     "metadata": {},
     "output_type": "display_data"
    },
    {
     "data": {
      "text/html": [
       "\n",
       "<form action=\"javascript:Jupyter.notebook.execute_cell()\"><input type =\"submit\" id=\"runButton\" value=\"Run Cell\"></form>\n"
      ],
      "text/plain": [
       "<IPython.core.display.HTML object>"
      ]
     },
     "metadata": {},
     "output_type": "display_data"
    },
    {
     "data": {
      "application/vnd.jupyter.widget-view+json": {
       "model_id": "1d2237a8b8894916aa047cc1eb422cfe",
       "version_major": 2,
       "version_minor": 0
      },
      "text/plain": [
       "interactive(children=(Dropdown(description='Accuracy', index=2, options=('6 decimals (~0.11 meters)', '5 decim…"
      ]
     },
     "metadata": {},
     "output_type": "display_data"
    }
   ],
   "source": [
    "hide_code()\n",
    "run_code()\n",
    "\n",
    "accuracy = widgets.Dropdown(options =[\"6 decimals (~0.11 meters)\",\n",
    "                                      \"5 decimals (~1.1 meters)\",\n",
    "                                      \"4 decimals (~11 meters)\",\n",
    "                                      \"3 decimals (~110 meters)\",\n",
    "                                      \"2 decimals (~1.1 kilometers)\"],\n",
    "                           value = \"4 decimals (~11 meters)\",\n",
    "                           description = \"Accuracy\",\n",
    "                           disabled = False)\n",
    "def update(acc):\n",
    "    return acc\n",
    "\n",
    "acc_select = interact(update, acc=accuracy)"
   ]
  },
  {
   "cell_type": "markdown",
   "metadata": {},
   "source": [
    "# 5: Smooth the population \n",
    "\n",
    "As shown in the earlier table there are many decimal people, which cannot exist. So based on the desired latitude/longitude accuracy the goal is to get close to the total population. The following code is based on Pareto distributions of populations or a rich get richer approach. In essence, if there is a high population density, then that area gets more people. \n",
    "\n",
    "(This is obviously somewhat coarse and we welcome contributions.)"
   ]
  },
  {
   "cell_type": "code",
   "execution_count": 7,
   "metadata": {},
   "outputs": [
    {
     "data": {
      "text/html": [
       "\n",
       "<form action=\"javascript:code_toggle()\"><input type=\"submit\" id=\"toggleButton\" value=\"Hide/Show Code\"></form>\n"
      ],
      "text/plain": [
       "<IPython.core.display.HTML object>"
      ]
     },
     "metadata": {},
     "output_type": "display_data"
    },
    {
     "data": {
      "text/html": [
       "\n",
       "<form action=\"javascript:Jupyter.notebook.execute_cell()\"><input type =\"submit\" id=\"runButton\" value=\"Run Cell\"></form>\n"
      ],
      "text/plain": [
       "<IPython.core.display.HTML object>"
      ]
     },
     "metadata": {},
     "output_type": "display_data"
    },
    {
     "name": "stdout",
     "output_type": "stream",
     "text": [
      "Waiting for Input\n"
     ]
    }
   ],
   "source": [
    "hide_code()\n",
    "run_code()\n",
    "\n",
    "if pop_file.value == \"Select File\":\n",
    "    print(\"Waiting for Input\")\n",
    "else: \n",
    "    acc_dict = {\"6 decimals (~0.11 meters)\":6,\n",
    "                  \"5 decimals (~1.1 meters)\":5,\n",
    "                  \"4 decimals (~11 meters)\":4,\n",
    "                  \"3 decimals (~110 meters)\":3,\n",
    "                  \"2 decimals (~1.1 kilometers)\":2}\n",
    "    rd = acc_dict[accuracy.value]\n",
    "\n",
    "    goal = round(total)\n",
    "    print(\"The goal population is {}.\\n\".format(goal))\n",
    "    print()\n",
    "    print(\"Calculating......\")\n",
    "    \n",
    "    data_store =pd.HDFStore(\".\\data\\density.h5\")\n",
    "    \n",
    "    grouped = data_store[\"density\"]\n",
    "    #round longitude\n",
    "    grouped[\"longitude\"] = grouped[\"longitude\"].round(rd)\n",
    "\n",
    "    #round latitude\n",
    "    grouped[\"latitude\"] = grouped[\"latitude\"].round(rd)\n",
    "\n",
    "\n",
    "    grouped = grouped.groupby(['longitude','latitude']).sum().reset_index()\n",
    "    #grouped_poptable.aggregate(np.sum)\n",
    "    \n",
    "    #get all the population that would be eliminated through rounding\n",
    "    grouped[\"smalls\"] = np.where((grouped['Population']< 0.4) & (grouped[\"Population\"]>0.0), grouped[\"Population\"], 0)\n",
    "    #get the total number\n",
    "    mod_sum = int(grouped[\"smalls\"].sum())\n",
    "    #Identify the largest populations < 0.5\n",
    "    largest = grouped.nlargest(mod_sum, columns='smalls')\n",
    "    #Change them to 1\n",
    "    grouped.at[largest.index, \"smalls\"] = 1\n",
    "    #add them back in\n",
    "    grouped[\"Population\"] = grouped[\"Population\"] + grouped['smalls']\n",
    "    \n",
    "    grouped[\"Population\"] = grouped[\"Population\"].apply(np.rint)\n",
    "    \n",
    "    new_total = np.sum(grouped[\"Population\"])\n",
    "    \n",
    "    diff = goal-new_total\n",
    "    \n",
    "    del grouped[\"smalls\"]\n",
    "        \n",
    "    data_store[\"density\"] = grouped\n",
    "    data_store.close()\n",
    "\n",
    "    print(\"The aggregated total population is: \" + str(new_total))\n",
    "    print()\n",
    "    print(\"The new aggregated total accounts for: \" + str(round(new_total/goal*100,2))+\"% of the population.\")\n",
    "    "
   ]
  },
  {
   "cell_type": "markdown",
   "metadata": {},
   "source": [
    "# 6: If desired narrow your choice\n",
    "\n",
    "The following provides sliders to narrow down to a desired geographic area."
   ]
  },
  {
   "cell_type": "code",
   "execution_count": 8,
   "metadata": {},
   "outputs": [
    {
     "data": {
      "text/html": [
       "\n",
       "<form action=\"javascript:code_toggle()\"><input type=\"submit\" id=\"toggleButton\" value=\"Hide/Show Code\"></form>\n"
      ],
      "text/plain": [
       "<IPython.core.display.HTML object>"
      ]
     },
     "metadata": {},
     "output_type": "display_data"
    },
    {
     "data": {
      "text/html": [
       "\n",
       "<form action=\"javascript:Jupyter.notebook.execute_cell()\"><input type =\"submit\" id=\"runButton\" value=\"Run Cell\"></form>\n"
      ],
      "text/plain": [
       "<IPython.core.display.HTML object>"
      ]
     },
     "metadata": {},
     "output_type": "display_data"
    },
    {
     "name": "stdout",
     "output_type": "stream",
     "text": [
      "Waiting for Input\n"
     ]
    }
   ],
   "source": [
    "hide_code()\n",
    "run_code()\n",
    "\n",
    "if pop_file.value == \"Select File\":\n",
    "    print(\"Waiting for Input\")\n",
    "else: \n",
    "    data_store =pd.HDFStore(\".\\data\\density.h5\")\n",
    "    \n",
    "    viz_table =data_store[\"visuals\"]\n",
    "        \n",
    "    #Convert viz_table to dictionary\n",
    "    long_points = {\"globe\":list(viz_table[\"longitude\"]), \"web\":list(viz_table[\"web_lon\"])}\n",
    "    lat_points = {\"globe\":list(viz_table[\"latitude\"]), \"web\":list(viz_table[\"web_lat\"])}\n",
    "    \n",
    "    \n",
    "    def update(min_latitude, max_latitude, min_longitude, max_longitude):\n",
    "        #Create the base figure\n",
    "        p = figure( x_range=(bbox2[0][0], bbox2[1][0]),y_range=(bbox2[0][1], bbox2[1][1]),x_axis_type=\"mercator\", y_axis_type=\"mercator\")\n",
    "        #add the map form the Bokeh map vendor in this case Stamen_Terrain --- see documentation\n",
    "        p.add_tile(tile_provider2)\n",
    "        #Convert from lat/long to mercator projection\n",
    "        idx_long_min = long_points[\"globe\"].index(min_longitude)\n",
    "        idx_lat_min = lat_points[\"globe\"].index(min_latitude)\n",
    "        idx_long_max = long_points[\"globe\"].index(max_longitude)\n",
    "        idx_lat_max = lat_points[\"globe\"].index(max_latitude)\n",
    "        p.patch([long_points[\"web\"][idx_long_min],long_points[\"web\"][idx_long_min],\\\n",
    "                 long_points[\"web\"][idx_long_max],long_points[\"web\"][idx_long_max]],\\\n",
    "                [lat_points[\"web\"][idx_lat_min],lat_points[\"web\"][idx_lat_max],\\\n",
    "                 lat_points[\"web\"][idx_lat_max],lat_points[\"web\"][idx_lat_min]],\\\n",
    "                 color=\"red\", alpha=0.5)\n",
    "\n",
    "        #p.patch([min_lat, min_lat, max_lat, max_lat],[min_lon, max_lon, max_lon, min_lon], color=\"blue\", alpha=0.25)\n",
    "        push_notebook()\n",
    "        show(p, notebook_handle=True)\n",
    "\n",
    "\n",
    "    loc_input = interact(update,min_latitude=widgets.FloatSlider(min=viz_table['latitude'].min(),\n",
    "                                                                 max=viz_table['latitude'].max(), \n",
    "                                                                 value =viz_table['latitude'].min()),\n",
    "                         max_latitude=widgets.FloatSlider(min=viz_table['latitude'].min(),\n",
    "                                                          max=viz_table['latitude'].max(),\n",
    "                                                          value =viz_table['latitude'].max()),\n",
    "                         min_longitude=widgets.FloatSlider(min=viz_table['longitude'].min(),\n",
    "                                                           max=viz_table['longitude'].max()),\n",
    "                                                           value= viz_table['longitude'].min(), \n",
    "                         max_longitude=widgets.FloatSlider(min=viz_table['longitude'].min(),\n",
    "                                                           max=viz_table['longitude'].max(),\n",
    "                                                           value= viz_table['longitude'].max()))\n"
   ]
  },
  {
   "cell_type": "markdown",
   "metadata": {},
   "source": [
    "# 7. New Population Size \n",
    "\n",
    "**You should skip this step if you did not reduce the area in step 6**\n",
    "\n",
    "The following takes the down selected population and updates the HDF5 files. "
   ]
  },
  {
   "cell_type": "code",
   "execution_count": 9,
   "metadata": {},
   "outputs": [
    {
     "data": {
      "text/html": [
       "\n",
       "<form action=\"javascript:code_toggle()\"><input type=\"submit\" id=\"toggleButton\" value=\"Hide/Show Code\"></form>\n"
      ],
      "text/plain": [
       "<IPython.core.display.HTML object>"
      ]
     },
     "metadata": {},
     "output_type": "display_data"
    },
    {
     "data": {
      "text/html": [
       "\n",
       "<form action=\"javascript:Jupyter.notebook.execute_cell()\"><input type =\"submit\" id=\"runButton\" value=\"Run Cell\"></form>\n"
      ],
      "text/plain": [
       "<IPython.core.display.HTML object>"
      ]
     },
     "metadata": {},
     "output_type": "display_data"
    },
    {
     "name": "stdout",
     "output_type": "stream",
     "text": [
      "Waiting for Input\n"
     ]
    }
   ],
   "source": [
    "hide_code()\n",
    "run_code()\n",
    "\n",
    "if pop_file.value == \"Select File\":\n",
    "    print(\"Waiting for Input\")\n",
    "else: \n",
    "    print(\"Updating.....\")\n",
    "    data_store =pd.HDFStore(\".\\data\\density.h5\")\n",
    "\n",
    "    #Take user inputs and get new arrays from lat and long\n",
    "    lat_min = loc_input.__dict__[\"widget\"].children[0].__dict__[\"_trait_values\"][\"value\"]\n",
    "    lat_max = loc_input.__dict__[\"widget\"].children[1].__dict__[\"_trait_values\"][\"value\"]\n",
    "    lon_min = loc_input.__dict__[\"widget\"].children[2].__dict__[\"_trait_values\"][\"value\"]\n",
    "    lon_max = loc_input.__dict__[\"widget\"].children[3].__dict__[\"_trait_values\"][\"value\"]\n",
    "\n",
    "    grouped = grouped[(grouped[\"latitude\"]>=lat_min) & (grouped[\"latitude\"]<= lat_max) &\n",
    "                                       (grouped[\"longitude\"] <= lon_max) & (grouped[\"longitude\"]>= lon_min )]\n",
    "    \n",
    "    data_store[\"density\"] = grouped\n",
    "    \n",
    "    vis = data_store[\"visuals\"]\n",
    "    \n",
    "    data_store[\"visuals\"] = vis[(vis[\"latitude\"]>=lat_min) & (vis[\"latitude\"]<= lat_max) &\n",
    "                                       (vis[\"longitude\"] <= lon_max) & (vis[\"longitude\"]>= lon_min )]\n",
    "    \n",
    "    print(\"Your new population total is {}\".format(grouped[\"Population\"].sum()))\n",
    "    print(\"Your density file is now ready for merging with the demographic file\")\n",
    "    data_store.close()"
   ]
  },
  {
   "cell_type": "code",
   "execution_count": null,
   "metadata": {},
   "outputs": [],
   "source": []
  }
 ],
 "metadata": {
  "kernelspec": {
   "display_name": "Python 3",
   "language": "python",
   "name": "python3"
  },
  "language_info": {
   "codemirror_mode": {
    "name": "ipython",
    "version": 3
   },
   "file_extension": ".py",
   "mimetype": "text/x-python",
   "name": "python",
   "nbconvert_exporter": "python",
   "pygments_lexer": "ipython3",
   "version": "3.9.2"
  }
 },
 "nbformat": 4,
 "nbformat_minor": 4
}
